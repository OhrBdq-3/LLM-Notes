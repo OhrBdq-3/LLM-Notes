{
 "cells": [
  {
   "cell_type": "markdown",
   "metadata": {},
   "source": [
    "## Chapter 2 Tokenization & Word Embedding"
   ]
  },
  {
   "cell_type": "markdown",
   "metadata": {},
   "source": [
    "### Large Language Model Data Preprocessing\n",
    "1. raw text data --> word embeddings:\n",
    "    - input text --> tokenized text\n",
    "    - tokenized text --> token ids\n",
    "    - token ids --> token embeddings\n",
    "    - token embeddings --> token embeddings + pos embeddings\n",
    "2. 纯文本转化为数字ID，数字ID转化为词向量，词向量+位置信息成为大模型的输入。\n",
    "3. 可以使用特殊符号<|endoftext|>，<|unk|>来表示字典中结束生成字符和缺少的字符。或是使用BytePair encoding，将单词进行拆解后编码（预防遇到unknown词汇）。"
   ]
  },
  {
   "cell_type": "code",
   "execution_count": 2,
   "metadata": {},
   "outputs": [
    {
     "name": "stdout",
     "output_type": "stream",
     "text": [
      "[15496, 11, 466, 345, 588, 8887, 30, 220, 50256, 554, 262, 4252, 18250, 8812, 2114, 286, 617, 34680, 27271, 13]\n",
      "Hello, do you like tea? <|endoftext|> In the sunlit terraces of someunknownPlace.\n"
     ]
    }
   ],
   "source": [
    "# 1. raw text --> tokenized text\n",
    "# TODO how does tiktoken work? how will chinese words work?\n",
    "import tiktoken\n",
    "tokenizer = tiktoken.get_encoding(\"gpt2\")\n",
    "text = \"Hello, do you like tea? <|endoftext|> In the sunlit terraces of someunknownPlace.\"\n",
    "text_ids = tokenizer.encode(text,allowed_special={\"<|endoftext|>\"})\n",
    "print(text_ids)\n",
    "ids_decoded = tokenizer.decode(text_ids)\n",
    "print(ids_decoded)"
   ]
  },
  {
   "cell_type": "markdown",
   "metadata": {},
   "source": [
    "### Training Data of Large Language Models\n",
    "1. The training data of large language models is using previous seen sequence to predict the next token.\n",
    "    - ex: LLMs learn (to) (predict) ... (<|endoftext|), the model takes \"LLMs learn\" as input and generate one output token \"to\", and then concate them as input \"LLMs learn to\" to generate the next token till the \"<|endoftext|>\". (autoregressive)\n",
    "2. Use a slicing window to create model inputs."
   ]
  },
  {
   "cell_type": "code",
   "execution_count": 4,
   "metadata": {},
   "outputs": [
    {
     "name": "stdout",
     "output_type": "stream",
     "text": [
      "first_slicing: [40, 367, 2885, 1464, 1807, 3619, 402, 271, 10899, 2138]\n",
      "second_slicing:      [2885, 1464, 1807, 3619, 402, 271, 10899, 2138, 257, 7026]\n"
     ]
    }
   ],
   "source": [
    "# Use a slicing window to create model inputs\n",
    "example_data_path = r\"D:\\xtLLM\\AI playground\\LLMsFromScratch\\ch02\\01_main-chapter-code\\the-verdict.txt\"\n",
    "with open(example_data_path,\"r\",encoding = \"utf-8\" ) as f:\n",
    "    raw_text = f.read()\n",
    "encoded_text = tokenizer.encode(raw_text)\n",
    "context_size = 10\n",
    "stride = 2\n",
    "first_slicing = encoded_text[:context_size]\n",
    "second_slicing = encoded_text[stride:context_size+stride]\n",
    "print(f\"first_slicing: {first_slicing}\")\n",
    "print(f\"second_slicing:      {second_slicing}\")"
   ]
  },
  {
   "cell_type": "code",
   "execution_count": 9,
   "metadata": {},
   "outputs": [
    {
     "name": "stdout",
     "output_type": "stream",
     "text": [
      "llm inputs: ----> llm target\n",
      "[40] ----> 367\n",
      "[40, 367] ----> 2885\n",
      "[40, 367, 2885] ----> 1464\n",
      "[40, 367, 2885, 1464] ----> 1807\n",
      "[40, 367, 2885, 1464, 1807] ----> 3619\n",
      "[40, 367, 2885, 1464, 1807, 3619] ----> 402\n",
      "[40, 367, 2885, 1464, 1807, 3619, 402] ----> 271\n",
      "[40, 367, 2885, 1464, 1807, 3619, 402, 271] ----> 10899\n",
      "[40, 367, 2885, 1464, 1807, 3619, 402, 271, 10899] ----> 2138\n",
      "[40, 367, 2885, 1464, 1807, 3619, 402, 271, 10899, 2138] ----> 257\n"
     ]
    }
   ],
   "source": [
    "print(\"llm inputs: ----> llm target\")\n",
    "for i in range(1,context_size+1):\n",
    "    input_ids = encoded_text[:i]\n",
    "    target_ids = encoded_text[i]\n",
    "    print(input_ids,\"---->\",target_ids)"
   ]
  },
  {
   "cell_type": "code",
   "execution_count": 7,
   "metadata": {},
   "outputs": [
    {
     "name": "stdout",
     "output_type": "stream",
     "text": [
      "I ---->  H\n",
      "I H ----> AD\n",
      "I HAD ---->  always\n",
      "I HAD always ---->  thought\n",
      "I HAD always thought ---->  Jack\n",
      "I HAD always thought Jack ---->  G\n",
      "I HAD always thought Jack G ----> is\n",
      "I HAD always thought Jack Gis ----> burn\n",
      "I HAD always thought Jack Gisburn ---->  rather\n",
      "I HAD always thought Jack Gisburn rather ---->  a\n"
     ]
    }
   ],
   "source": [
    "for i in range(1,context_size+1):\n",
    "    input_ids = encoded_text[:i]\n",
    "    target_ids = encoded_text[i]\n",
    "    print(tokenizer.decode(input_ids),\"---->\",tokenizer.decode([target_ids]))"
   ]
  },
  {
   "cell_type": "code",
   "execution_count": 13,
   "metadata": {},
   "outputs": [
    {
     "name": "stdout",
     "output_type": "stream",
     "text": [
      "tensor([[   40,   367,  2885,  1464],\n",
      "        [ 1807,  3619,   402,   271],\n",
      "        [10899,  2138,   257,  7026],\n",
      "        [15632,   438,  2016,   257],\n",
      "        [  922,  5891,  1576,   438],\n",
      "        [  568,   340,   373,   645],\n",
      "        [ 1049,  5975,   284,   502],\n",
      "        [  284,  3285,   326,    11]])\n",
      "tensor([[  367,  2885,  1464,  1807],\n",
      "        [ 3619,   402,   271, 10899],\n",
      "        [ 2138,   257,  7026, 15632],\n",
      "        [  438,  2016,   257,   922],\n",
      "        [ 5891,  1576,   438,   568],\n",
      "        [  340,   373,   645,  1049],\n",
      "        [ 5975,   284,   502,   284],\n",
      "        [ 3285,   326,    11,   287]])\n"
     ]
    }
   ],
   "source": [
    "import torch \n",
    "from torch.utils.data import Dataset,DataLoader\n",
    "\n",
    "class MyDataset(Dataset):\n",
    "    def __init__(self,txt,tokenizer,max_length,stride):\n",
    "        # txt: raw text input\n",
    "        # tokenizer: tiktoken tokenizer\n",
    "        # max_length: maximum length of text in one window\n",
    "        # stride: stride of shifting\n",
    "        self.input_ids = []\n",
    "        self.target_ids = []\n",
    "        token_ids = tokenizer.encode(txt,allowed_special={\"<|endoftext>\"})\n",
    "        for i in range(0,len(token_ids)-max_length,stride):\n",
    "            input_chunk = token_ids[i:i+max_length]\n",
    "            target_chunk = token_ids[i+1:i+max_length+1]\n",
    "            self.input_ids.append(torch.tensor(input_chunk))\n",
    "            self.target_ids.append(torch.tensor(target_chunk))\n",
    "            \n",
    "    def __len__(self):\n",
    "        return len(self.input_ids)\n",
    "    \n",
    "    def __getitem__(self,idx):\n",
    "        return self.input_ids[idx],self.target_ids[idx]\n",
    "\n",
    "my_data = MyDataset(raw_text,tokenizer,max_length=4,stride=4)\n",
    "my_dataloader = DataLoader(my_data,batch_size = 8)\n",
    "data_iter = iter(my_dataloader)\n",
    "inputs,targets = next(data_iter)\n",
    "print(inputs)\n",
    "print(targets)"
   ]
  },
  {
   "cell_type": "code",
   "execution_count": 18,
   "metadata": {},
   "outputs": [
    {
     "name": "stdout",
     "output_type": "stream",
     "text": [
      "Parameter containing:\n",
      "tensor([[ 0.1474, -2.1902, -2.2966],\n",
      "        [ 1.0853, -1.9754, -1.3972],\n",
      "        [-1.2581, -1.0070,  1.0953],\n",
      "        [ 0.8421,  1.3301,  1.1487],\n",
      "        [-0.0118,  1.4984, -0.7885],\n",
      "        [-1.4082, -1.5428,  0.6157]], requires_grad=True)\n"
     ]
    }
   ],
   "source": [
    "# word embedding\n",
    "# 将input ids转化成高纬向量形式，每个token都将转化为维度相同的向量。\n",
    "# torch.nn.Embedding is a lookup table that store {id:vector} pairs\n",
    "# this embedding layer is trainable during the training process(similar to w2v)\n",
    "vocab_size = 6\n",
    "output_dim = 3\n",
    "embedding_layer = torch.nn.Embedding(vocab_size,output_dim)\n",
    "print(embedding_layer.weight)"
   ]
  },
  {
   "cell_type": "code",
   "execution_count": 19,
   "metadata": {},
   "outputs": [
    {
     "name": "stdout",
     "output_type": "stream",
     "text": [
      "tensor([[0.8421, 1.3301, 1.1487]], grad_fn=<EmbeddingBackward0>)\n"
     ]
    }
   ],
   "source": [
    "print(embedding_layer(torch.tensor([3]))) # one token id is represented by a 3-dim vector"
   ]
  },
  {
   "cell_type": "code",
   "execution_count": 22,
   "metadata": {},
   "outputs": [
    {
     "name": "stdout",
     "output_type": "stream",
     "text": [
      "Token IDs:\n",
      " tensor([[   40,   367,  2885,  1464],\n",
      "        [ 1807,  3619,   402,   271],\n",
      "        [10899,  2138,   257,  7026],\n",
      "        [15632,   438,  2016,   257],\n",
      "        [  922,  5891,  1576,   438],\n",
      "        [  568,   340,   373,   645],\n",
      "        [ 1049,  5975,   284,   502],\n",
      "        [  284,  3285,   326,    11]])\n",
      "\n",
      "Inputs shape:\n",
      " torch.Size([8, 4])\n",
      "targets IDs:\n",
      " tensor([[  367,  2885,  1464,  1807],\n",
      "        [ 3619,   402,   271, 10899],\n",
      "        [ 2138,   257,  7026, 15632],\n",
      "        [  438,  2016,   257,   922],\n",
      "        [ 5891,  1576,   438,   568],\n",
      "        [  340,   373,   645,  1049],\n",
      "        [ 5975,   284,   502,   284],\n",
      "        [ 3285,   326,    11,   287]])\n",
      "\targets shape:\n",
      " torch.Size([8, 4])\n"
     ]
    }
   ],
   "source": [
    "\n",
    "vocab_size = 50257\n",
    "output_dim = 256\n",
    "\n",
    "token_embedding_layer = torch.nn.Embedding(vocab_size, output_dim)\n",
    "my_data = MyDataset(raw_text,tokenizer,max_length=4,stride=4)\n",
    "my_dataloader = DataLoader(my_data,batch_size = 8)\n",
    "data_iter = iter(my_dataloader)\n",
    "inputs,targets = next(data_iter)\n",
    "print(\"Token IDs:\\n\", inputs)\n",
    "print(\"\\nInputs shape:\\n\", inputs.shape)\n",
    "print(\"targets IDs:\\n\", targets)\n",
    "print(\"\\targets shape:\\n\", targets.shape)"
   ]
  },
  {
   "cell_type": "code",
   "execution_count": 21,
   "metadata": {},
   "outputs": [
    {
     "name": "stdout",
     "output_type": "stream",
     "text": [
      "torch.Size([8, 4, 256])\n"
     ]
    },
    {
     "data": {
      "text/plain": [
       "tensor([[[ 0.3510, -0.5757, -1.5736,  ..., -1.6253, -0.3289, -0.9933],\n",
       "         [-1.1081,  0.2274,  0.6203,  ...,  1.5479, -1.8518,  1.1442],\n",
       "         [-0.9267,  0.8849, -0.5649,  ..., -0.4379, -0.1542,  0.8026],\n",
       "         [-0.5939,  0.0826, -1.7491,  ..., -0.9792,  0.4369, -0.1986]],\n",
       "\n",
       "        [[ 2.0469, -0.2555,  1.6866,  ..., -0.2410, -0.8813, -1.0781],\n",
       "         [ 0.9166, -0.1945, -1.0540,  ...,  0.5471, -1.8863,  0.0295],\n",
       "         [ 0.3098,  0.4088,  0.1337,  ..., -0.4947, -0.2524, -2.6513],\n",
       "         [ 1.2139,  0.2736,  2.2948,  ..., -0.5649, -0.9337, -0.0517]],\n",
       "\n",
       "        [[ 1.2241, -0.2724, -0.2569,  ...,  1.4578,  1.4006,  2.2211],\n",
       "         [-0.5525, -0.1110, -0.2867,  ..., -2.5327, -0.3971,  0.5921],\n",
       "         [ 1.4675,  0.5508,  0.1313,  ...,  0.2010,  0.2372, -0.0966],\n",
       "         [-0.6726, -0.7986, -0.1320,  ..., -0.5562,  1.8020, -0.6285]],\n",
       "\n",
       "        ...,\n",
       "\n",
       "        [[ 0.6011, -0.4326,  1.0781,  ..., -1.4406, -1.3300, -0.5436],\n",
       "         [-0.5380, -1.1697,  0.7563,  ...,  0.4654,  2.7764,  0.8575],\n",
       "         [-0.1746,  0.9669, -0.8737,  ...,  0.0172,  1.5127,  1.9609],\n",
       "         [ 0.1216, -0.2731,  0.1425,  ...,  0.5278,  0.7019, -0.4054]],\n",
       "\n",
       "        [[-0.0700, -0.2992,  0.2241,  ..., -1.0105, -0.6143,  0.0206],\n",
       "         [-1.0048, -1.2499, -0.4410,  ...,  1.1603, -1.4942, -0.4638],\n",
       "         [ 0.2550,  0.3496,  1.9305,  ..., -1.0808, -1.3122,  0.3655],\n",
       "         [-0.7011, -0.9750,  1.2816,  ..., -0.4975,  0.3115, -1.7776]],\n",
       "\n",
       "        [[ 0.2550,  0.3496,  1.9305,  ..., -1.0808, -1.3122,  0.3655],\n",
       "         [ 0.5120, -0.1909, -0.3902,  ..., -0.9831,  2.7425, -0.1541],\n",
       "         [-1.4238,  0.7026,  2.2764,  ..., -0.7609,  0.2298,  2.2644],\n",
       "         [-0.4453,  0.0984,  0.0275,  ..., -1.0481,  0.0882,  0.3164]]],\n",
       "       grad_fn=<EmbeddingBackward0>)"
      ]
     },
     "execution_count": 21,
     "metadata": {},
     "output_type": "execute_result"
    }
   ],
   "source": [
    "token_embeddings = token_embedding_layer(inputs)\n",
    "print(token_embeddings.shape)\n",
    "token_embeddings"
   ]
  },
  {
   "cell_type": "code",
   "execution_count": 26,
   "metadata": {},
   "outputs": [
    {
     "name": "stdout",
     "output_type": "stream",
     "text": [
      "tensor([[-0.5952,  1.1378,  0.8064,  ...,  0.1229,  0.4559, -1.6080],\n",
      "        [-1.0853,  2.2335,  0.6375,  ..., -0.6232, -2.5646, -1.1339],\n",
      "        [ 1.0444, -3.0779, -0.3743,  ...,  1.9803,  0.1562,  0.1169],\n",
      "        [ 1.2798, -0.1913,  0.8160,  ...,  0.6105, -0.7060, -0.1789]],\n",
      "       grad_fn=<EmbeddingBackward0>)\n"
     ]
    }
   ],
   "source": [
    "# this is a trainable positional embedding\n",
    "# the positional embedding is able to learn the positional information of input sequence\n",
    "# mainly the positional embedding layer is a trainable lookup table with input of [0,context_length]\n",
    "context_length = 4\n",
    "pos_embedding_layer = torch.nn.Embedding(context_length, output_dim)\n",
    "pos_embeddings = pos_embedding_layer(torch.arange(context_length))\n",
    "print(pos_embeddings)\n"
   ]
  },
  {
   "cell_type": "code",
   "execution_count": 27,
   "metadata": {},
   "outputs": [
    {
     "name": "stdout",
     "output_type": "stream",
     "text": [
      "tensor([[[-2.4423e-01,  5.6213e-01, -7.6724e-01,  ..., -1.5024e+00,\n",
      "           1.2700e-01, -2.6013e+00],\n",
      "         [-2.1934e+00,  2.4609e+00,  1.2578e+00,  ...,  9.2471e-01,\n",
      "          -4.4164e+00,  1.0336e-02],\n",
      "         [ 1.1773e-01, -2.1930e+00, -9.3927e-01,  ...,  1.5424e+00,\n",
      "           2.0327e-03,  9.1954e-01],\n",
      "         [ 6.8598e-01, -1.0875e-01, -9.3317e-01,  ..., -3.6874e-01,\n",
      "          -2.6917e-01, -3.7754e-01]],\n",
      "\n",
      "        [[ 1.4517e+00,  8.8231e-01,  2.4930e+00,  ..., -1.1809e-01,\n",
      "          -4.2541e-01, -2.6860e+00],\n",
      "         [-1.6873e-01,  2.0390e+00, -4.1655e-01,  ..., -7.6058e-02,\n",
      "          -4.4509e+00, -1.1043e+00],\n",
      "         [ 1.3542e+00, -2.6691e+00, -2.4060e-01,  ...,  1.4856e+00,\n",
      "          -9.6197e-02, -2.5343e+00],\n",
      "         [ 2.4938e+00,  8.2252e-02,  3.1107e+00,  ...,  4.5553e-02,\n",
      "          -1.6397e+00, -2.3061e-01]],\n",
      "\n",
      "        [[ 6.2891e-01,  8.6536e-01,  5.4950e-01,  ...,  1.5807e+00,\n",
      "           1.8565e+00,  6.1314e-01],\n",
      "         [-1.6378e+00,  2.1226e+00,  3.5076e-01,  ..., -3.1559e+00,\n",
      "          -2.9617e+00, -5.4174e-01],\n",
      "         [ 2.5119e+00, -2.5271e+00, -2.4306e-01,  ...,  2.1812e+00,\n",
      "           3.9339e-01,  2.0359e-02],\n",
      "         [ 6.0726e-01, -9.8998e-01,  6.8398e-01,  ...,  5.4294e-02,\n",
      "           1.0959e+00, -8.0740e-01]],\n",
      "\n",
      "        ...,\n",
      "\n",
      "        [[ 5.9090e-03,  7.0525e-01,  1.8845e+00,  ..., -1.3177e+00,\n",
      "          -8.7411e-01, -2.1516e+00],\n",
      "         [-1.6233e+00,  1.0639e+00,  1.3938e+00,  ..., -1.5775e-01,\n",
      "           2.1178e-01, -2.7640e-01],\n",
      "         [ 8.6977e-01, -2.1111e+00, -1.2480e+00,  ...,  1.9975e+00,\n",
      "           1.6690e+00,  2.0778e+00],\n",
      "         [ 1.4014e+00, -4.6445e-01,  9.5841e-01,  ...,  1.1383e+00,\n",
      "          -4.1945e-03, -5.8435e-01]],\n",
      "\n",
      "        [[-6.6517e-01,  8.3856e-01,  1.0305e+00,  ..., -8.8763e-01,\n",
      "          -1.5833e-01, -1.5874e+00],\n",
      "         [-2.0901e+00,  9.8363e-01,  1.9646e-01,  ...,  5.3714e-01,\n",
      "          -4.0588e+00, -1.5977e+00],\n",
      "         [ 1.2995e+00, -2.7283e+00,  1.5562e+00,  ...,  8.9943e-01,\n",
      "          -1.1560e+00,  4.8242e-01],\n",
      "         [ 5.7870e-01, -1.1663e+00,  2.0976e+00,  ...,  1.1297e-01,\n",
      "          -3.9455e-01, -1.9565e+00]],\n",
      "\n",
      "        [[-3.4014e-01,  1.4874e+00,  2.7369e+00,  ..., -9.5796e-01,\n",
      "          -8.5624e-01, -1.2425e+00],\n",
      "         [-5.7327e-01,  2.0426e+00,  2.4732e-01,  ..., -1.6063e+00,\n",
      "           1.7786e-01, -1.2880e+00],\n",
      "         [-3.7939e-01, -2.3753e+00,  1.9020e+00,  ...,  1.2193e+00,\n",
      "           3.8599e-01,  2.3813e+00],\n",
      "         [ 8.3455e-01, -9.2940e-02,  8.4350e-01,  ..., -4.3758e-01,\n",
      "          -6.1783e-01,  1.3747e-01]]], grad_fn=<AddBackward0>)\n"
     ]
    }
   ],
   "source": [
    "input_embeddings = token_embeddings + pos_embeddings\n",
    "print(input_embeddings)"
   ]
  },
  {
   "cell_type": "markdown",
   "metadata": {},
   "source": [
    "## Chapter 3 Attention Mechanism"
   ]
  },
  {
   "cell_type": "code",
   "execution_count": 124,
   "metadata": {},
   "outputs": [
    {
     "name": "stdout",
     "output_type": "stream",
     "text": [
      "tensor([0.9544, 1.4950, 1.4754, 0.8434, 0.7070, 1.0865])\n"
     ]
    }
   ],
   "source": [
    "import torch\n",
    "# create a input tensor as tensor flowing in decoder\n",
    "inputs = torch.tensor(\n",
    "  [[0.43, 0.15, 0.89], # Your     (x^1)\n",
    "   [0.55, 0.87, 0.66], # journey  (x^2)\n",
    "   [0.57, 0.85, 0.64], # starts   (x^3)\n",
    "   [0.22, 0.58, 0.33], # with     (x^4)\n",
    "   [0.77, 0.25, 0.10], # one      (x^5)\n",
    "   [0.05, 0.80, 0.55]] # step     (x^6)\n",
    ")\n",
    "# the query is the value of current focusing token\n",
    "# the key is the value of all the tokens in the sequence\n",
    "# the attn score is computed by q & k\n",
    "# get the weighted attn score --> attn weights\n",
    "# put attn weights and value of each token together and summation (weighted sum)\n",
    "query = inputs[1]  # 2nd input token is the query\n",
    "attn_scores_2 = torch.empty(inputs.shape[0])\n",
    "for i, x_i in enumerate(inputs):\n",
    "    attn_scores_2[i] = torch.dot(x_i, query) # dot product (transpose not necessary here since they are 1-dim vectors)\n",
    "\n",
    "print(attn_scores_2)"
   ]
  },
  {
   "cell_type": "code",
   "execution_count": 125,
   "metadata": {},
   "outputs": [
    {
     "name": "stdout",
     "output_type": "stream",
     "text": [
      "Attention weights: tensor([0.1455, 0.2278, 0.2249, 0.1285, 0.1077, 0.1656])\n",
      "Sum: tensor(1.0000)\n"
     ]
    }
   ],
   "source": [
    "attn_weights_2_tmp = attn_scores_2 / attn_scores_2.sum()\n",
    "\n",
    "print(\"Attention weights:\", attn_weights_2_tmp)\n",
    "print(\"Sum:\", attn_weights_2_tmp.sum())"
   ]
  },
  {
   "cell_type": "code",
   "execution_count": 126,
   "metadata": {},
   "outputs": [
    {
     "name": "stdout",
     "output_type": "stream",
     "text": [
      "Attention weights: tensor([0.1385, 0.2379, 0.2333, 0.1240, 0.1082, 0.1581])\n",
      "Sum: tensor(1.)\n"
     ]
    }
   ],
   "source": [
    "def softmax_naive(x):\n",
    "    return torch.exp(x) / torch.exp(x).sum(dim=0)\n",
    "\n",
    "attn_weights_2_naive = softmax_naive(attn_scores_2)\n",
    "\n",
    "print(\"Attention weights:\", attn_weights_2_naive)\n",
    "print(\"Sum:\", attn_weights_2_naive.sum())"
   ]
  },
  {
   "cell_type": "markdown",
   "metadata": {},
   "source": [
    "### scaled dot-product attention\n",
    "- introducing Wq, Wk, Wv trainable matrices for each attention head.\n",
    "- one attention head has one set of Wq, Wk, Wv\n",
    "- Wq is used when the token is computing its own attn weights\n",
    "- Wk is used with Wq that represents how much attention is needed for others to pay attention to it with Wq\n",
    "- attention weights are get by Wq and Wk\n",
    "- using attention weights and Wv to get the current value of input token with respect to other tokens in the sequence"
   ]
  },
  {
   "cell_type": "code",
   "execution_count": 127,
   "metadata": {},
   "outputs": [
    {
     "data": {
      "text/plain": [
       "tensor([[0.4300, 0.1500, 0.8900],\n",
       "        [0.5500, 0.8700, 0.6600],\n",
       "        [0.5700, 0.8500, 0.6400],\n",
       "        [0.2200, 0.5800, 0.3300],\n",
       "        [0.7700, 0.2500, 0.1000],\n",
       "        [0.0500, 0.8000, 0.5500]])"
      ]
     },
     "execution_count": 127,
     "metadata": {},
     "output_type": "execute_result"
    }
   ],
   "source": [
    "inputs # assuming the input sequence has 6 tokens with dim 3"
   ]
  },
  {
   "cell_type": "code",
   "execution_count": 128,
   "metadata": {},
   "outputs": [],
   "source": [
    "torch.manual_seed(123)\n",
    "d_in = 3 # input dimension is 3\n",
    "d_out = 2 # output dimension is 2\n",
    "W_query = torch.nn.Parameter(torch.rand(d_in, d_out), requires_grad=False) # define a Wq\n",
    "W_key   = torch.nn.Parameter(torch.rand(d_in, d_out), requires_grad=False) # define a Wk\n",
    "W_value = torch.nn.Parameter(torch.rand(d_in, d_out), requires_grad=False) # define a Wv"
   ]
  },
  {
   "cell_type": "code",
   "execution_count": 129,
   "metadata": {},
   "outputs": [
    {
     "name": "stdout",
     "output_type": "stream",
     "text": [
      "query: tensor([0.4306, 1.4551])\n",
      "key: tensor([0.4433, 1.1419])\n",
      "value: tensor([0.3951, 1.0037])\n"
     ]
    }
   ],
   "source": [
    "x_2 = inputs[1]\n",
    "#see the q,k,v values of a input\n",
    "query_2 = x_2 @ W_query \n",
    "key_2 = x_2 @ W_key \n",
    "value_2 = x_2 @ W_value\n",
    "\n",
    "print('query:',query_2)\n",
    "print('key:',key_2)\n",
    "print('value:',value_2)"
   ]
  },
  {
   "cell_type": "code",
   "execution_count": 130,
   "metadata": {},
   "outputs": [
    {
     "name": "stdout",
     "output_type": "stream",
     "text": [
      "keys.shape: torch.Size([6, 2])\n",
      "values.shape: torch.Size([6, 2])\n"
     ]
    }
   ],
   "source": [
    "keys = inputs @ W_key \n",
    "values = inputs @ W_value\n",
    "\n",
    "print(\"keys.shape:\", keys.shape)\n",
    "print(\"values.shape:\", values.shape)"
   ]
  },
  {
   "cell_type": "code",
   "execution_count": 131,
   "metadata": {},
   "outputs": [
    {
     "name": "stdout",
     "output_type": "stream",
     "text": [
      "attn score: tensor([0.9544, 1.4950, 1.4754, 0.8434, 0.7070, 1.0865])\n",
      "attn weights:  tensor([0.1500, 0.2264, 0.2199, 0.1311, 0.0906, 0.1820])\n"
     ]
    }
   ],
   "source": [
    "# calculate attn score,attn weights of x_2 wrt. all other tokens\n",
    "attn_score_2 = query_2 @ keys.T\n",
    "d_k= keys.shape[1] # divide attn score by square root of embedding dimension\n",
    "print('attn score:',attn_scores_2)\n",
    "attn_weights_2 = torch.softmax(attn_score_2 / d_k**0.5,dim=-1)\n",
    "print('attn weights: ',attn_weights_2)"
   ]
  },
  {
   "cell_type": "code",
   "execution_count": 132,
   "metadata": {},
   "outputs": [
    {
     "name": "stdout",
     "output_type": "stream",
     "text": [
      "tensor([0.3061, 0.8210])\n"
     ]
    }
   ],
   "source": [
    "# get the final value \n",
    "context_vec_2 = attn_weights_2 @ values\n",
    "print(context_vec_2)"
   ]
  },
  {
   "cell_type": "markdown",
   "metadata": {},
   "source": [
    "### CausalAttention head"
   ]
  },
  {
   "cell_type": "code",
   "execution_count": 18,
   "metadata": {},
   "outputs": [
    {
     "ename": "NameError",
     "evalue": "name 'inputs' is not defined",
     "output_type": "error",
     "traceback": [
      "\u001b[1;31m---------------------------------------------------------------------------\u001b[0m",
      "\u001b[1;31mNameError\u001b[0m                                 Traceback (most recent call last)",
      "Cell \u001b[1;32mIn[18], line 36\u001b[0m\n\u001b[0;32m     33\u001b[0m         \u001b[38;5;28;01mreturn\u001b[39;00m torch\u001b[38;5;241m.\u001b[39mcat([head(x) \u001b[38;5;28;01mfor\u001b[39;00m head \u001b[38;5;129;01min\u001b[39;00m \u001b[38;5;28mself\u001b[39m\u001b[38;5;241m.\u001b[39mheads],dim\u001b[38;5;241m=\u001b[39m\u001b[38;5;241m-\u001b[39m\u001b[38;5;241m1\u001b[39m)\n\u001b[0;32m     35\u001b[0m torch\u001b[38;5;241m.\u001b[39mmanual_seed(\u001b[38;5;241m123\u001b[39m)\n\u001b[1;32m---> 36\u001b[0m batch \u001b[38;5;241m=\u001b[39m torch\u001b[38;5;241m.\u001b[39mstack((\u001b[43minputs\u001b[49m,inputs),dim\u001b[38;5;241m=\u001b[39m\u001b[38;5;241m0\u001b[39m)\n\u001b[0;32m     37\u001b[0m context_length \u001b[38;5;241m=\u001b[39m batch\u001b[38;5;241m.\u001b[39mshape[\u001b[38;5;241m1\u001b[39m] \u001b[38;5;66;03m# This is the number of tokens\u001b[39;00m\n\u001b[0;32m     38\u001b[0m d_in, d_out \u001b[38;5;241m=\u001b[39m \u001b[38;5;241m3\u001b[39m, \u001b[38;5;241m2\u001b[39m\n",
      "\u001b[1;31mNameError\u001b[0m: name 'inputs' is not defined"
     ]
    }
   ],
   "source": [
    "import torch.nn as nn\n",
    "class CausalAttention(nn.Module):\n",
    "    def __init__(self,d_in,d_out,context_length,dropout,qkv_bias=False):\n",
    "        super().__init__()\n",
    "        self.d_in = d_in # input word embedding vector dimension\n",
    "        self.d_out = d_out # output dimension of this attention head\n",
    "        self.W_query = nn.Linear(d_in,d_out,bias=qkv_bias) # remove bias, treat it as simple matrix ope\n",
    "        self.W_key = nn.Linear(d_in,d_out,bias=qkv_bias) # remove bias, treat it as simple matrix ope\n",
    "        self.W_value = nn.Linear(d_in,d_out,bias=qkv_bias) # remove bias, treat it as simple matrix ope\n",
    "        self.dropout = nn.Dropout(dropout)\n",
    "        #self.register_buffer('mask', torch.triu(torch.ones(context_length, context_length), diagonal=1)) # New\n",
    "        self.mask = torch.triu(torch.ones(context_length,context_length) * (-torch.inf),diagonal=1)\n",
    "        \n",
    "    def forward(self,x): # x: a batch of input\n",
    "        b,num_tokens,d_in = x.shape\n",
    "        queries = self.W_query(x)\n",
    "        keys = self.W_query(x)\n",
    "        values = self.W_value(x)\n",
    "        attn_scores = torch.matmul(queries,keys.mT)\n",
    "        attn_scores.masked_fill_(self.mask.bool()[:num_tokens,:num_tokens],-torch.inf)\n",
    "        attn_weights = torch.softmax(attn_scores/keys.shape[-1]**0.5,dim=-1)\n",
    "        attn_weights = self.dropout(attn_weights)\n",
    "        context_vec = torch.matmul(attn_weights,values)\n",
    "        return context_vec \n",
    "    \n",
    "class MultiHeadAttention(nn.Module):\n",
    "    def __init__(self,d_in,d_out,context_length,dropout,num_heads,qkv_bias=False):\n",
    "        super().__init__()\n",
    "        self.heads = nn.ModuleList(\n",
    "            [CausalAttention(d_in,d_out,context_length,dropout,qkv_bias) for _ in range(num_heads)]\n",
    "        )\n",
    "    def forward(self,x):\n",
    "        return torch.cat([head(x) for head in self.heads],dim=-1)\n",
    "        \n",
    "torch.manual_seed(123)\n",
    "batch = torch.stack((inputs,inputs),dim=0)\n",
    "context_length = batch.shape[1] # This is the number of tokens\n",
    "d_in, d_out = 3, 2\n",
    "mha = MultiHeadAttention(\n",
    "    d_in, d_out, context_length, 0.0, num_heads=2\n",
    ")\n",
    "\n",
    "context_vecs = mha(batch)\n",
    "\n",
    "print(context_vecs)\n",
    "print(\"context_vecs.shape:\", context_vecs.shape) "
   ]
  },
  {
   "cell_type": "markdown",
   "metadata": {},
   "source": [
    "**X** inputs: (6 x 3) [(batch = 1) x (seq_len = 6) x (embed_dim = 3)]\n",
    "        [\n",
    "            [0.4300, 0.1500, 0.8900],   x_1\n",
    "            [0.5500, 0.8700, 0.6600],   x_2\n",
    "            [0.5700, 0.8500, 0.6400],   x_3\n",
    "            [0.2200, 0.5800, 0.3300],   x_4\n",
    "            [0.7700, 0.2500, 0.1000],   x_5\n",
    "            [0.0500, 0.8000, 0.5500]    x_6\n",
    "        ]\n",
    "**Wq** query matrix: (2 x 3)\n",
    "        [   \n",
    "            [-0.2354,  0.0191, -0.2867],\n",
    "            [0.2177, -0.4919,  0.4232]\n",
    "        ]\n",
    "\n",
    "**Wk** key matrix: (2 x 3)\n",
    "        [\n",
    "            [-0.4196, -0.4590, -0.3648],\n",
    "            [0.2615, -0.2133,  0.2161]\n",
    "        ]\n",
    "\n",
    "**Wv** value matrix: (2 x 3)\n",
    "        [\n",
    "            [-0.4900, -0.3503, -0.2120],\n",
    "            [-0.1135, -0.4404,  0.3780]\n",
    "        ]\n",
    "\n",
    "\n",
    "calculate queries of each input word:\n",
    "        queries = inputs (6 x 3) @ query matrix^T (3 x 2)\n",
    "            queries: (6 x 2)\n",
    "                [       \n",
    "                        [-0.3536,  0.3965], x_1 query\n",
    "                        [-0.3021, -0.0289], x_2 query\n",
    "                        [-0.3015, -0.0232], x_3 query\n",
    "                        [-0.1353, -0.0978], x_4 query\n",
    "                        [-0.2052,  0.0870], x_5 query\n",
    "                        [-0.1542, -0.1499]  x_6 query\n",
    "                ]\n",
    "\n",
    "calculate keys of each input word:\n",
    "        keys = inputs (6 x 3) @ key matrix^T (3 x 2)\n",
    "            keys: (6 x 2)\n",
    "                [       \n",
    "                        [-0.5740,  0.2727], x_1 keys\n",
    "                        [-0.8709,  0.1008], x_2 keys\n",
    "                        [-0.8628,  0.1060], x_3 keys\n",
    "                        [-0.4789,  0.0051], x_4 keys\n",
    "                        [-0.4744,  0.1696], x_5 keys\n",
    "                        [-0.5888, -0.0388]  x_6 keys\n",
    "                ]\n",
    "\n",
    "calculate values of each input word:\n",
    "        keys = inputs (6 x 3) @ value matrix^T (3 x 2)\n",
    "            keys: (6 x 2)\n",
    "                [       \n",
    "                        [-0.4519,  0.2216], x_1 values\n",
    "                        [-0.7142, -0.1961], x_2 values\n",
    "                        [-0.7127, -0.1971], x_3 values\n",
    "                        [-0.3809, -0.1557], x_4 values\n",
    "                        [-0.4861, -0.1597], x_5 values\n",
    "                        [-0.4213, -0.1501]  x_6 values\n",
    "                ]\n",
    "\n",
    "calculate attention scores of each input word with respect to all:\n",
    "        attn scores = queries (6 x 2) @ keys^T (2 x 6)\n",
    "                attn scores: (6 x 6)\n",
    "                [\n",
    "                        [0.3111, 0.3479, 0.3471, 0.1714, 0.2350, 0.1928], x_1 scores wrt all x_*\n",
    "                        [0.1655, 0.2602, 0.2576, 0.1445, 0.1384, 0.1790], x_2 scores wrt all x_*\n",
    "                        [0.1667, 0.2602, 0.2577, 0.1443, 0.1391, 0.1784], x_3 scores wrt all x_*\n",
    "                        [0.0510, 0.1080, 0.1064, 0.0643, 0.0476, 0.0835], x_4 scores wrt all x_*\n",
    "                        [0.1415, 0.1875, 0.1863, 0.0987, 0.1121, 0.1174], x_5 scores wrt all x_*\n",
    "                        [0.0476, 0.1192, 0.1171, 0.0731, 0.0477, 0.0966]  x_6 scores wrt all x_*\n",
    "                ]\n",
    "apply mask to attn scores (model shouldn't pay attention future words):\n",
    "        masked attn scores:\n",
    "                [\n",
    "                        [0.3111,   -inf,   -inf,   -inf,   -inf,   -inf],\n",
    "                        [0.1655, 0.2602,   -inf,   -inf,   -inf,   -inf],\n",
    "                        [0.1667, 0.2602, 0.2577,   -inf,   -inf,   -inf],\n",
    "                        [0.0510, 0.1080, 0.1064, 0.0643,   -inf,   -inf],\n",
    "                        [0.1415, 0.1875, 0.1863, 0.0987, 0.1121,   -inf],\n",
    "                        [0.0476, 0.1192, 0.1171, 0.0731, 0.0477, 0.0966]\n",
    "                ]\n",
    "do softmax to get attn weights:\n",
    "        attn weights = softmax (attn_scores/d_in**0.5)\n",
    "                [\n",
    "                        [1.0000, 0.0000, 0.0000, 0.0000, 0.0000, 0.0000],\n",
    "                        [0.4833, 0.5167, 0.0000, 0.0000, 0.0000, 0.0000],\n",
    "                        [0.3190, 0.3408, 0.3402, 0.0000, 0.0000, 0.0000],\n",
    "                        [0.2445, 0.2545, 0.2542, 0.2468, 0.0000, 0.0000],\n",
    "                        [0.1994, 0.2060, 0.2058, 0.1935, 0.1953, 0.0000],\n",
    "                        [0.1624, 0.1709, 0.1706, 0.1654, 0.1625, 0.1682]\n",
    "                ]\n",
    "calculate weighted sum of values of each tokens: (output of this CausalAttentionLayer)\n",
    "        weighted sum (6 x 2) = attn weights (6 x 6) @ values (6 x 2)\n",
    "                [\n",
    "                        [-0.4519,  0.2216], x_1\n",
    "                        [-0.5874,  0.0058], x_2\n",
    "                        [-0.6300, -0.0632], x_3\n",
    "                        [-0.5675, -0.0843], x_4\n",
    "                        [-0.5526, -0.0981], x_5\n",
    "                        [-0.5299, -0.1081]  x_6\n",
    "                ]\n",
    "iterate over all attention heads, then concate all the results together:\n",
    "        if num_heads = 2:\n",
    "                        [-0.4519,  0.2216,-0.4519,  0.2216], x_1\n",
    "                        [-0.5874,  0.0058,-0.1234,  2.2131], x_2\n",
    "                        [-0.6300, -0.0632,-0.4231,  0.3216], x_3\n",
    "                        [-0.5675, -0.0843,-0.0989,  0.6543], x_4\n",
    "                        [-0.5526, -0.0981,-0.8927,  0.8975], x_5\n",
    "                        [-0.5299, -0.1081,-0.0293,  0.9293]  x_6"
   ]
  },
  {
   "cell_type": "markdown",
   "metadata": {},
   "source": [
    "### Pytorch torch.nn.Linear探索\n",
    "\n",
    "nn.Linear(in_dim,out_dim) generate a trainable matrix of shape(out_dim,in_dim)\n",
    "it takes x of shape (in_dim) as input \n",
    "calculate x @ nn.Linear.weight.mT"
   ]
  },
  {
   "cell_type": "code",
   "execution_count": 115,
   "metadata": {},
   "outputs": [
    {
     "data": {
      "text/plain": [
       "Parameter containing:\n",
       "tensor([[-0.0525,  0.5470, -0.0455],\n",
       "        [ 0.0183, -0.0900,  0.0908]], requires_grad=True)"
      ]
     },
     "execution_count": 115,
     "metadata": {},
     "output_type": "execute_result"
    }
   ],
   "source": [
    "example_wq = nn.Linear(3,2,bias=False)\n",
    "example_wq.weight"
   ]
  },
  {
   "cell_type": "code",
   "execution_count": 116,
   "metadata": {},
   "outputs": [
    {
     "data": {
      "text/plain": [
       "tensor([1., 2., 3.])"
      ]
     },
     "execution_count": 116,
     "metadata": {},
     "output_type": "execute_result"
    }
   ],
   "source": [
    "example_x = torch.tensor([1,2,3],dtype=torch.float32)\n",
    "example_x"
   ]
  },
  {
   "cell_type": "code",
   "execution_count": 117,
   "metadata": {},
   "outputs": [
    {
     "data": {
      "text/plain": [
       "Parameter containing:\n",
       "tensor([[-0.0525,  0.5470, -0.0455],\n",
       "        [ 0.0183, -0.0900,  0.0908]], requires_grad=True)"
      ]
     },
     "execution_count": 117,
     "metadata": {},
     "output_type": "execute_result"
    }
   ],
   "source": [
    "example_wq.weight"
   ]
  },
  {
   "cell_type": "code",
   "execution_count": 118,
   "metadata": {},
   "outputs": [
    {
     "data": {
      "text/plain": [
       "tensor([0.9049, 0.1105], grad_fn=<SqueezeBackward4>)"
      ]
     },
     "execution_count": 118,
     "metadata": {},
     "output_type": "execute_result"
    }
   ],
   "source": [
    "example_wq(example_x)"
   ]
  },
  {
   "cell_type": "code",
   "execution_count": 119,
   "metadata": {},
   "outputs": [
    {
     "data": {
      "text/plain": [
       "tensor([0.9049, 0.1105], grad_fn=<SqueezeBackward4>)"
      ]
     },
     "execution_count": 119,
     "metadata": {},
     "output_type": "execute_result"
    }
   ],
   "source": [
    "torch.matmul(example_x,example_wq.weight.T)"
   ]
  },
  {
   "cell_type": "code",
   "execution_count": 120,
   "metadata": {},
   "outputs": [
    {
     "data": {
      "text/plain": [
       "0.9048579931259155"
      ]
     },
     "execution_count": 120,
     "metadata": {},
     "output_type": "execute_result"
    }
   ],
   "source": [
    "result = 0\n",
    "for w,x in zip(example_x.numpy().tolist(),example_wq.weight.detach().numpy().tolist()[0]):\n",
    "    result+= w * x\n",
    "result"
   ]
  },
  {
   "cell_type": "code",
   "execution_count": 142,
   "metadata": {},
   "outputs": [
    {
     "data": {
      "text/plain": [
       "tensor([1., 2., 3.])"
      ]
     },
     "execution_count": 142,
     "metadata": {},
     "output_type": "execute_result"
    }
   ],
   "source": [
    "example_x"
   ]
  },
  {
   "cell_type": "markdown",
   "metadata": {},
   "source": [
    "## Chapter 4"
   ]
  },
  {
   "cell_type": "code",
   "execution_count": 4,
   "metadata": {},
   "outputs": [],
   "source": [
    "GPT_CONFIG_124M = {\n",
    "    \"vocab_size\": 50257,    # Vocabulary size\n",
    "    \"context_length\": 1024, # Context length\n",
    "    \"emb_dim\": 768,         # Embedding dimension\n",
    "    \"n_heads\": 12,          # Number of attention heads\n",
    "    \"n_layers\": 12,         # Number of layers\n",
    "    \"drop_rate\": 0.1,       # Dropout rate\n",
    "    \"qkv_bias\": False       # Query-Key-Value bias\n",
    "}"
   ]
  },
  {
   "cell_type": "code",
   "execution_count": 5,
   "metadata": {},
   "outputs": [],
   "source": [
    "import torch\n",
    "import torch.nn as nn\n",
    "\n",
    "\n",
    "class DummyGPTModel(nn.Module):\n",
    "    def __init__(self, cfg):\n",
    "        super().__init__()\n",
    "        self.tok_emb = nn.Embedding(cfg[\"vocab_size\"], cfg[\"emb_dim\"])\n",
    "        self.pos_emb = nn.Embedding(cfg[\"context_length\"], cfg[\"emb_dim\"])\n",
    "        self.drop_emb = nn.Dropout(cfg[\"drop_rate\"])\n",
    "        \n",
    "        # Use a placeholder for TransformerBlock\n",
    "        self.trf_blocks = nn.Sequential(\n",
    "            *[DummyTransformerBlock(cfg) for _ in range(cfg[\"n_layers\"])])\n",
    "        \n",
    "        # Use a placeholder for LayerNorm\n",
    "        self.final_norm = DummyLayerNorm(cfg[\"emb_dim\"])\n",
    "        self.out_head = nn.Linear(\n",
    "            cfg[\"emb_dim\"], cfg[\"vocab_size\"], bias=False\n",
    "        )\n",
    "\n",
    "    def forward(self, in_idx):\n",
    "        batch_size, seq_len = in_idx.shape\n",
    "        tok_embeds = self.tok_emb(in_idx)\n",
    "        pos_embeds = self.pos_emb(torch.arange(seq_len, device=in_idx.device))\n",
    "        x = tok_embeds + pos_embeds\n",
    "        x = self.drop_emb(x)\n",
    "        x = self.trf_blocks(x)\n",
    "        x = self.final_norm(x)\n",
    "        logits = self.out_head(x)\n",
    "        return logits\n",
    "\n",
    "\n",
    "class DummyTransformerBlock(nn.Module):\n",
    "    def __init__(self, cfg):\n",
    "        super().__init__()\n",
    "        # A simple placeholder\n",
    "\n",
    "    def forward(self, x):\n",
    "        # This block does nothing and just returns its input.\n",
    "        return x\n",
    "\n",
    "\n",
    "class DummyLayerNorm(nn.Module):\n",
    "    def __init__(self, normalized_shape, eps=1e-5):\n",
    "        super().__init__()\n",
    "        # The parameters here are just to mimic the LayerNorm interface.\n",
    "\n",
    "    def forward(self, x):\n",
    "        # This layer does nothing and just returns its input.\n",
    "        return x"
   ]
  },
  {
   "cell_type": "code",
   "execution_count": 6,
   "metadata": {},
   "outputs": [
    {
     "name": "stdout",
     "output_type": "stream",
     "text": [
      "tensor([[6109, 3626, 6100,  345],\n",
      "        [6109, 1110, 6622,  257]])\n"
     ]
    }
   ],
   "source": [
    "import tiktoken\n",
    "\n",
    "tokenizer = tiktoken.get_encoding(\"gpt2\")\n",
    "\n",
    "batch = []\n",
    "\n",
    "txt1 = \"Every effort moves you\"\n",
    "txt2 = \"Every day holds a\"\n",
    "\n",
    "batch.append(torch.tensor(tokenizer.encode(txt1)))\n",
    "batch.append(torch.tensor(tokenizer.encode(txt2)))\n",
    "batch = torch.stack(batch, dim=0)\n",
    "print(batch)"
   ]
  },
  {
   "cell_type": "code",
   "execution_count": 7,
   "metadata": {},
   "outputs": [
    {
     "name": "stdout",
     "output_type": "stream",
     "text": [
      "Output shape: torch.Size([2, 4, 50257])\n",
      "tensor([[[-0.9289,  0.2748, -0.7557,  ..., -1.6070,  0.2702, -0.5888],\n",
      "         [-0.4476,  0.1726,  0.5354,  ..., -0.3932,  1.5285,  0.8557],\n",
      "         [ 0.5680,  1.6053, -0.2155,  ...,  1.1624,  0.1380,  0.7425],\n",
      "         [ 0.0447,  2.4787, -0.8843,  ...,  1.3219, -0.0864, -0.5856]],\n",
      "\n",
      "        [[-1.5474, -0.0542, -1.0571,  ..., -1.8061, -0.4494, -0.6747],\n",
      "         [-0.8422,  0.8243, -0.1098,  ..., -0.1434,  0.2079,  1.2046],\n",
      "         [ 0.1355,  1.1858, -0.1453,  ...,  0.0869, -0.1590,  0.1552],\n",
      "         [ 0.1666, -0.8138,  0.2307,  ...,  2.5035, -0.3055, -0.3083]]],\n",
      "       grad_fn=<UnsafeViewBackward0>)\n"
     ]
    }
   ],
   "source": [
    "torch.manual_seed(123)\n",
    "model = DummyGPTModel(GPT_CONFIG_124M)\n",
    "\n",
    "logits = model(batch)\n",
    "print(\"Output shape:\", logits.shape)\n",
    "print(logits)"
   ]
  },
  {
   "cell_type": "markdown",
   "metadata": {},
   "source": [
    "### LayerNorm: Normalize Layer output with mean = 0 and std = 1"
   ]
  },
  {
   "cell_type": "code",
   "execution_count": 10,
   "metadata": {},
   "outputs": [
    {
     "name": "stdout",
     "output_type": "stream",
     "text": [
      "tensor([[-0.1115,  0.1204, -0.3696, -0.2404, -1.1969],\n",
      "        [ 0.2093, -0.9724, -0.7550,  0.3239, -0.1085]])\n",
      "tensor([[0.2260, 0.3470, 0.0000, 0.2216, 0.0000, 0.0000],\n",
      "        [0.2133, 0.2394, 0.0000, 0.5198, 0.3297, 0.0000]],\n",
      "       grad_fn=<ReluBackward0>)\n",
      "Mean:\n",
      " tensor([[0.1324],\n",
      "        [0.2170]], grad_fn=<MeanBackward1>)\n",
      "Variance:\n",
      " tensor([[0.0231],\n",
      "        [0.0398]], grad_fn=<VarBackward0>)\n"
     ]
    }
   ],
   "source": [
    "torch.manual_seed(123)\n",
    "\n",
    "# create 2 training examples with 5 dimensions (features) each\n",
    "batch_example = torch.randn(2, 5) \n",
    "\n",
    "layer = nn.Sequential(nn.Linear(5, 6), nn.ReLU())\n",
    "out = layer(batch_example)\n",
    "print(batch_example)\n",
    "print(out)\n",
    "mean = out.mean(dim=-1, keepdim=True)\n",
    "var = out.var(dim=-1, keepdim=True)\n",
    "\n",
    "print(\"Mean:\\n\", mean)\n",
    "print(\"Variance:\\n\", var)"
   ]
  },
  {
   "cell_type": "code",
   "execution_count": 11,
   "metadata": {},
   "outputs": [
    {
     "name": "stdout",
     "output_type": "stream",
     "text": [
      "Normalized layer outputs:\n",
      " tensor([[ 0.6159,  1.4126, -0.8719,  0.5872, -0.8719, -0.8719],\n",
      "        [-0.0189,  0.1121, -1.0876,  1.5173,  0.5647, -1.0876]],\n",
      "       grad_fn=<DivBackward0>)\n",
      "Mean:\n",
      " tensor([[9.9341e-09],\n",
      "        [0.0000e+00]], grad_fn=<MeanBackward1>)\n",
      "Variance:\n",
      " tensor([[1.0000],\n",
      "        [1.0000]], grad_fn=<VarBackward0>)\n"
     ]
    }
   ],
   "source": [
    "out_norm = (out - mean) / torch.sqrt(var)\n",
    "print(\"Normalized layer outputs:\\n\", out_norm)\n",
    "\n",
    "mean = out_norm.mean(dim=-1, keepdim=True)\n",
    "var = out_norm.var(dim=-1, keepdim=True)\n",
    "print(\"Mean:\\n\", mean)\n",
    "print(\"Variance:\\n\", var)"
   ]
  },
  {
   "cell_type": "code",
   "execution_count": 22,
   "metadata": {},
   "outputs": [],
   "source": [
    "class LayerNorm(nn.Module):\n",
    "    def __init__(self, emb_dim):\n",
    "        super().__init__()\n",
    "        self.eps = 1e-5 # avoid dividing zero\n",
    "        self.scale = nn.Parameter(torch.ones(emb_dim)) # add trainable scaling\n",
    "        self.shift = nn.Parameter(torch.zeros(emb_dim)) # add trainable shifting\n",
    "\n",
    "    def forward(self, x):\n",
    "        mean = x.mean(dim=-1, keepdim=True)\n",
    "        var = x.var(dim=-1, keepdim=True, unbiased=False)\n",
    "        norm_x = (x - mean) / torch.sqrt(var + self.eps)\n",
    "        return self.scale * norm_x + self.shift"
   ]
  },
  {
   "cell_type": "markdown",
   "metadata": {},
   "source": [
    "### GeLU vs ReLU Activation"
   ]
  },
  {
   "cell_type": "code",
   "execution_count": 23,
   "metadata": {},
   "outputs": [
    {
     "data": {
      "image/png": "[encoded data removed]",
      "text/plain": [
       "<Figure size 800x300 with 2 Axes>"
      ]
     },
     "metadata": {},
     "output_type": "display_data"
    }
   ],
   "source": [
    "class GELU(nn.Module):\n",
    "    def __init__(self):\n",
    "        super().__init__()\n",
    "\n",
    "    def forward(self, x):\n",
    "        return 0.5 * x * (1 + torch.tanh(\n",
    "            torch.sqrt(torch.tensor(2.0 / torch.pi)) * \n",
    "            (x + 0.044715 * torch.pow(x, 3))\n",
    "        ))\n",
    "import matplotlib.pyplot as plt\n",
    "\n",
    "gelu, relu = GELU(), nn.ReLU()\n",
    "\n",
    "# Some sample data\n",
    "x = torch.linspace(-3, 3, 100)\n",
    "y_gelu, y_relu = gelu(x), relu(x)\n",
    "\n",
    "plt.figure(figsize=(8, 3))\n",
    "for i, (y, label) in enumerate(zip([y_gelu, y_relu], [\"GELU\", \"ReLU\"]), 1):\n",
    "    plt.subplot(1, 2, i)\n",
    "    plt.plot(x, y)\n",
    "    plt.title(f\"{label} activation function\")\n",
    "    plt.xlabel(\"x\")\n",
    "    plt.ylabel(f\"{label}(x)\")\n",
    "    plt.grid(True)\n",
    "\n",
    "plt.tight_layout()\n",
    "plt.show()"
   ]
  },
  {
   "cell_type": "markdown",
   "metadata": {},
   "source": [
    "### Feed Forward Layer with GeLU"
   ]
  },
  {
   "cell_type": "code",
   "execution_count": 24,
   "metadata": {},
   "outputs": [
    {
     "name": "stdout",
     "output_type": "stream",
     "text": [
      "torch.Size([2, 10, 768])\n"
     ]
    }
   ],
   "source": [
    "class FeedForward(nn.Module):\n",
    "    def __init__(self, cfg):\n",
    "        super().__init__()\n",
    "        self.layers = nn.Sequential(\n",
    "            nn.Linear(cfg[\"emb_dim\"], 4 * cfg[\"emb_dim\"]),\n",
    "            GELU(),\n",
    "            nn.Linear(4 * cfg[\"emb_dim\"], cfg[\"emb_dim\"]),\n",
    "        )\n",
    "\n",
    "    def forward(self, x):\n",
    "        return self.layers(x)\n",
    "    \n",
    "ffn = FeedForward(GPT_CONFIG_124M)\n",
    "\n",
    "# input shape: [batch_size, num_token, emb_size]\n",
    "x = torch.rand(2, 10, 768) \n",
    "out = ffn(x)\n",
    "print(out.shape)"
   ]
  },
  {
   "cell_type": "markdown",
   "metadata": {},
   "source": [
    "### Transformer-Decoder Block"
   ]
  },
  {
   "cell_type": "code",
   "execution_count": 31,
   "metadata": {},
   "outputs": [],
   "source": [
    "class MultiHeadAttention(nn.Module):\n",
    "    def __init__(self, d_in, d_out, context_length, dropout, num_heads, qkv_bias=False):\n",
    "        super().__init__()\n",
    "        assert (d_out % num_heads == 0), \\\n",
    "            \"d_out must be divisible by num_heads\"\n",
    "\n",
    "        self.d_out = d_out\n",
    "        self.num_heads = num_heads\n",
    "        self.head_dim = d_out // num_heads # Reduce the projection dim to match desired output dim\n",
    "\n",
    "        self.W_query = nn.Linear(d_in, d_out, bias=qkv_bias)\n",
    "        self.W_key = nn.Linear(d_in, d_out, bias=qkv_bias)\n",
    "        self.W_value = nn.Linear(d_in, d_out, bias=qkv_bias)\n",
    "        self.out_proj = nn.Linear(d_out, d_out)  # Linear layer to combine head outputs\n",
    "        self.dropout = nn.Dropout(dropout)\n",
    "        self.register_buffer(\n",
    "            \"mask\",\n",
    "            torch.triu(torch.ones(context_length, context_length),\n",
    "                       diagonal=1)\n",
    "        )\n",
    "\n",
    "    def forward(self, x):\n",
    "        b, num_tokens, d_in = x.shape\n",
    "\n",
    "        keys = self.W_key(x) # Shape: (b, num_tokens, d_out)\n",
    "        queries = self.W_query(x)\n",
    "        values = self.W_value(x)\n",
    "\n",
    "        # We implicitly split the matrix by adding a `num_heads` dimension\n",
    "        # Unroll last dim: (b, num_tokens, d_out) -> (b, num_tokens, num_heads, head_dim)\n",
    "        keys = keys.view(b, num_tokens, self.num_heads, self.head_dim) \n",
    "        values = values.view(b, num_tokens, self.num_heads, self.head_dim)\n",
    "        queries = queries.view(b, num_tokens, self.num_heads, self.head_dim)\n",
    "\n",
    "        # Transpose: (b, num_tokens, num_heads, head_dim) -> (b, num_heads, num_tokens, head_dim)\n",
    "        keys = keys.transpose(1, 2)\n",
    "        queries = queries.transpose(1, 2)\n",
    "        values = values.transpose(1, 2)\n",
    "\n",
    "        # Compute scaled dot-product attention (aka self-attention) with a causal mask\n",
    "        attn_scores = queries @ keys.transpose(2, 3)  # Dot product for each head\n",
    "\n",
    "        # Original mask truncated to the number of tokens and converted to boolean\n",
    "        mask_bool = self.mask.bool()[:num_tokens, :num_tokens]\n",
    "\n",
    "        # Use the mask to fill attention scores\n",
    "        attn_scores.masked_fill_(mask_bool, -torch.inf)\n",
    "        \n",
    "        attn_weights = torch.softmax(attn_scores / keys.shape[-1]**0.5, dim=-1)\n",
    "        attn_weights = self.dropout(attn_weights)\n",
    "\n",
    "        # Shape: (b, num_tokens, num_heads, head_dim)\n",
    "        context_vec = (attn_weights @ values).transpose(1, 2) \n",
    "        \n",
    "        # Combine heads, where self.d_out = self.num_heads * self.head_dim\n",
    "        context_vec = context_vec.contiguous().view(b, num_tokens, self.d_out)\n",
    "        context_vec = self.out_proj(context_vec) # optional projection\n",
    "\n",
    "        return context_vec"
   ]
  },
  {
   "cell_type": "code",
   "execution_count": 40,
   "metadata": {},
   "outputs": [],
   "source": [
    "\n",
    "class TransformerBlock(nn.Module):\n",
    "    def __init__(self, cfg):\n",
    "        super().__init__()\n",
    "        self.att = MultiHeadAttention(\n",
    "            d_in=cfg[\"emb_dim\"],\n",
    "            d_out=cfg[\"emb_dim\"],\n",
    "            context_length=cfg[\"context_length\"],\n",
    "            num_heads=cfg[\"n_heads\"], \n",
    "            dropout=cfg[\"drop_rate\"],\n",
    "            qkv_bias=cfg[\"qkv_bias\"])\n",
    "        self.ff = FeedForward(cfg) # feed forward layer\n",
    "        self.norm1 = LayerNorm(cfg[\"emb_dim\"])\n",
    "        self.norm2 = LayerNorm(cfg[\"emb_dim\"])\n",
    "        self.drop_shortcut = nn.Dropout(cfg[\"drop_rate\"])\n",
    "\n",
    "    def forward(self, x):\n",
    "        # Shortcut connection for attention block\n",
    "        shortcut = x    # store og x as shortcut\n",
    "        x = self.norm1(x) # layer norm input x\n",
    "        x = self.att(x)  # Shape [batch_size, num_tokens, emb_size] multihead attention layer\n",
    "        x = self.drop_shortcut(x) # dropout\n",
    "        #print(x.shape)\n",
    "        x = x + shortcut  # Add the original input back, add residual\n",
    "\n",
    "        # Shortcut connection for feed forward block\n",
    "        shortcut = x #store temp shortcut value\n",
    "        x = self.norm2(x) # layer norm x\n",
    "        x = self.ff(x) #feedforward layer\n",
    "        x = self.drop_shortcut(x) #dropout layer\n",
    "        x = x + shortcut  # Add the original input back\n",
    "\n",
    "        return x"
   ]
  },
  {
   "cell_type": "code",
   "execution_count": 41,
   "metadata": {},
   "outputs": [
    {
     "name": "stdout",
     "output_type": "stream",
     "text": [
      "Input shape: torch.Size([2, 4, 768])\n",
      "Output shape: torch.Size([2, 4, 768])\n"
     ]
    }
   ],
   "source": [
    "torch.manual_seed(123)\n",
    "\n",
    "x = torch.rand(2, 4, 768)  # Shape: [batch_size, num_tokens, emb_dim]\n",
    "block = TransformerBlock(GPT_CONFIG_124M)\n",
    "output = block(x)\n",
    "\n",
    "print(\"Input shape:\", x.shape)\n",
    "print(\"Output shape:\", output.shape)"
   ]
  },
  {
   "cell_type": "code",
   "execution_count": 42,
   "metadata": {},
   "outputs": [],
   "source": [
    "class GPTModel(nn.Module):\n",
    "    def __init__(self, cfg):\n",
    "        super().__init__()\n",
    "        self.tok_emb = nn.Embedding(cfg[\"vocab_size\"], cfg[\"emb_dim\"])\n",
    "        self.pos_emb = nn.Embedding(cfg[\"context_length\"], cfg[\"emb_dim\"])\n",
    "        self.drop_emb = nn.Dropout(cfg[\"drop_rate\"])\n",
    "        \n",
    "        self.trf_blocks = nn.Sequential(\n",
    "            *[TransformerBlock(cfg) for _ in range(cfg[\"n_layers\"])])\n",
    "        \n",
    "        self.final_norm = LayerNorm(cfg[\"emb_dim\"])\n",
    "        self.out_head = nn.Linear(\n",
    "            cfg[\"emb_dim\"], cfg[\"vocab_size\"], bias=False\n",
    "        )\n",
    "\n",
    "    def forward(self, in_idx):\n",
    "        batch_size, seq_len = in_idx.shape\n",
    "        tok_embeds = self.tok_emb(in_idx)\n",
    "        pos_embeds = self.pos_emb(torch.arange(seq_len, device=in_idx.device))\n",
    "        x = tok_embeds + pos_embeds  # Shape [batch_size, num_tokens, emb_size]\n",
    "        x = self.drop_emb(x)\n",
    "        x = self.trf_blocks(x)\n",
    "        x = self.final_norm(x)\n",
    "        logits = self.out_head(x)\n",
    "        return logits"
   ]
  },
  {
   "cell_type": "code",
   "execution_count": 43,
   "metadata": {},
   "outputs": [
    {
     "name": "stdout",
     "output_type": "stream",
     "text": [
      "Input batch:\n",
      " tensor([[6109, 3626, 6100,  345],\n",
      "        [6109, 1110, 6622,  257]])\n",
      "\n",
      "Output shape: torch.Size([2, 4, 50257])\n",
      "tensor([[[ 0.1381,  0.0077, -0.1963,  ..., -0.0222, -0.1060,  0.1717],\n",
      "         [ 0.3865, -0.8408, -0.6564,  ..., -0.5163,  0.2369, -0.3357],\n",
      "         [ 0.6989, -0.1829, -0.1631,  ...,  0.1472, -0.6504, -0.0056],\n",
      "         [-0.4290,  0.1669, -0.1258,  ...,  1.1579,  0.5303, -0.5549]],\n",
      "\n",
      "        [[ 0.1094, -0.2894, -0.1467,  ..., -0.0557,  0.2911, -0.2824],\n",
      "         [ 0.0882, -0.3552, -0.3527,  ...,  1.2930,  0.0053,  0.1898],\n",
      "         [ 0.6091,  0.4702, -0.4094,  ...,  0.7688,  0.3787, -0.1974],\n",
      "         [-0.0612, -0.0737,  0.4751,  ...,  1.2463, -0.3834,  0.0609]]],\n",
      "       grad_fn=<UnsafeViewBackward0>)\n"
     ]
    }
   ],
   "source": [
    "torch.manual_seed(123)\n",
    "model = GPTModel(GPT_CONFIG_124M)\n",
    "\n",
    "out = model(batch)\n",
    "print(\"Input batch:\\n\", batch)\n",
    "print(\"\\nOutput shape:\", out.shape)\n",
    "print(out)"
   ]
  },
  {
   "cell_type": "code",
   "execution_count": 44,
   "metadata": {},
   "outputs": [
    {
     "name": "stdout",
     "output_type": "stream",
     "text": [
      "Total number of parameters: 163,009,536\n"
     ]
    }
   ],
   "source": [
    "total_params = sum(p.numel() for p in model.parameters())\n",
    "print(f\"Total number of parameters: {total_params:,}\")"
   ]
  },
  {
   "cell_type": "code",
   "execution_count": 45,
   "metadata": {},
   "outputs": [],
   "source": [
    "def generate_text_simple(model, idx, max_new_tokens, context_size):\n",
    "    # idx is (batch, n_tokens) array of indices in the current context\n",
    "    for _ in range(max_new_tokens):\n",
    "        \n",
    "        # Crop current context if it exceeds the supported context size\n",
    "        # E.g., if LLM supports only 5 tokens, and the context size is 10\n",
    "        # then only the last 5 tokens are used as context\n",
    "        idx_cond = idx[:, -context_size:]\n",
    "        \n",
    "        # Get the predictions\n",
    "        with torch.no_grad():\n",
    "            logits = model(idx_cond)\n",
    "        \n",
    "        # Focus only on the last time step\n",
    "        # (batch, n_tokens, vocab_size) becomes (batch, vocab_size)\n",
    "        logits = logits[:, -1, :]  \n",
    "\n",
    "        # Apply softmax to get probabilities\n",
    "        probas = torch.softmax(logits, dim=-1)  # (batch, vocab_size)\n",
    "\n",
    "        # Get the idx of the vocab entry with the highest probability value\n",
    "        idx_next = torch.argmax(probas, dim=-1, keepdim=True)  # (batch, 1)\n",
    "\n",
    "        # Append sampled index to the running sequence\n",
    "        idx = torch.cat((idx, idx_next), dim=1)  # (batch, n_tokens+1)\n",
    "\n",
    "    return idx"
   ]
  },
  {
   "cell_type": "code",
   "execution_count": 46,
   "metadata": {},
   "outputs": [
    {
     "name": "stdout",
     "output_type": "stream",
     "text": [
      "encoded: [15496, 11, 314, 716]\n",
      "encoded_tensor.shape: torch.Size([1, 4])\n"
     ]
    }
   ],
   "source": [
    "start_context = \"Hello, I am\"\n",
    "\n",
    "encoded = tokenizer.encode(start_context)\n",
    "print(\"encoded:\", encoded)\n",
    "\n",
    "encoded_tensor = torch.tensor(encoded).unsqueeze(0)\n",
    "print(\"encoded_tensor.shape:\", encoded_tensor.shape)"
   ]
  },
  {
   "cell_type": "code",
   "execution_count": 47,
   "metadata": {},
   "outputs": [
    {
     "name": "stdout",
     "output_type": "stream",
     "text": [
      "Output: tensor([[15496,    11,   314,   716, 27018, 24086, 47843, 30961, 42348,  7267]])\n",
      "Output length: 10\n"
     ]
    }
   ],
   "source": [
    "model.eval() # disable dropout\n",
    "\n",
    "out = generate_text_simple(\n",
    "    model=model,\n",
    "    idx=encoded_tensor, \n",
    "    max_new_tokens=6, \n",
    "    context_size=GPT_CONFIG_124M[\"context_length\"]\n",
    ")\n",
    "\n",
    "print(\"Output:\", out)\n",
    "print(\"Output length:\", len(out[0]))"
   ]
  },
  {
   "cell_type": "code",
   "execution_count": 48,
   "metadata": {},
   "outputs": [
    {
     "name": "stdout",
     "output_type": "stream",
     "text": [
      "Hello, I am Featureiman Byeswickattribute argue\n"
     ]
    }
   ],
   "source": [
    "decoded_text = tokenizer.decode(out.squeeze(0).tolist())\n",
    "print(decoded_text)"
   ]
  },
  {
   "cell_type": "code",
   "execution_count": null,
   "metadata": {},
   "outputs": [],
   "source": []
  }
 ],
 "metadata": {
  "kernelspec": {
   "display_name": "mdchat",
   "language": "python",
   "name": "python3"
  },
  "language_info": {
   "codemirror_mode": {
    "name": "ipython",
    "version": 3
   },
   "file_extension": ".py",
   "mimetype": "text/x-python",
   "name": "python",
   "nbconvert_exporter": "python",
   "pygments_lexer": "ipython3",
   "version": "3.12.2"
  }
 },
 "nbformat": 4,
 "nbformat_minor": 2
}
