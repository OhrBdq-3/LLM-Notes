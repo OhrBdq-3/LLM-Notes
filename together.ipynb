{
 "cells": [
  {
   "cell_type": "markdown",
   "metadata": {},
   "source": [
    "### Data Preprocessing"
   ]
  },
  {
   "cell_type": "code",
   "execution_count": 17,
   "metadata": {},
   "outputs": [
    {
     "name": "stdout",
     "output_type": "stream",
     "text": [
      "sample inputs:  tensor([[   40,   367,  2885,  1464,  1807,  3619,   402,   271, 10899,  2138],\n",
      "        [ 2885,  1464,  1807,  3619,   402,   271, 10899,  2138,   257,  7026]])\n",
      "sample targets:  tensor([[  367,  2885,  1464,  1807,  3619,   402,   271, 10899,  2138,   257],\n",
      "        [ 1464,  1807,  3619,   402,   271, 10899,  2138,   257,  7026, 15632]])\n"
     ]
    }
   ],
   "source": [
    "import tiktoken\n",
    "import torch\n",
    "from torch.utils.data import Dataset,DataLoader\n",
    "\n",
    "# get gpt2 encoder\n",
    "tokenizer = tiktoken.get_encoding('gpt2')\n",
    "\n",
    "# get raw text data\n",
    "data_path = 'the-verdict.txt'\n",
    "with open(data_path,'r',encoding='utf-8') as f:\n",
    "    raw_text = f.read()\n",
    "\n",
    "class MyDataset(Dataset):\n",
    "    def __init__(self,raw_text,tokenizer,max_length,stride):\n",
    "        \"\"\"\n",
    "        Dataset class of unlabeled text data.\n",
    "        Create a dataset with a shifting window such that:\n",
    "        target data is one right shifting of input data.\n",
    "\n",
    "        Args:\n",
    "            raw_text (str): raw text input\n",
    "            tokenizer (tokenizer with encode method): tokenizer for encoding text data\n",
    "            max_length (int): context window size \n",
    "            stride (int): shifting step\n",
    "        \"\"\"\n",
    "        self.input_ids = []\n",
    "        self.target_ids = []\n",
    "        token_ids = tokenizer.encode(raw_text,allowed_special={\"<|endoftext|>\"})\n",
    "        for i in range(0,len(token_ids) - max_length,stride):\n",
    "            input_chunk = token_ids[i:i+max_length]\n",
    "            target_chunk = token_ids[i+1:i+max_length+1]\n",
    "            self.input_ids.append(torch.tensor(input_chunk))\n",
    "            self.target_ids.append(torch.tensor(target_chunk))\n",
    "            \n",
    "    def __len__(self):\n",
    "        return len(self.input_ids)\n",
    "    \n",
    "    def __getitem__(self,idx):\n",
    "        return self.input_ids[idx],self.target_ids[idx]\n",
    "\n",
    "dataset = MyDataset(raw_text,tokenizer,max_length = 10,stride = 2)\n",
    "dataloader = DataLoader(dataset,shuffle = False,batch_size = 2)\n",
    "dataloader_iter = iter(dataloader)\n",
    "inputs,targets = next(dataloader_iter)\n",
    "print(\"sample inputs: \",inputs)\n",
    "print(\"sample targets: \",targets)"
   ]
  },
  {
   "cell_type": "code",
   "execution_count": 53,
   "metadata": {},
   "outputs": [
    {
     "name": "stdout",
     "output_type": "stream",
     "text": [
      "I HAD always thought Jack Gisburn rather\n",
      " HAD always thought Jack Gisburn rather a\n",
      "AD always thought Jack Gisburn rather a cheap\n",
      " always thought Jack Gisburn rather a cheap genius\n"
     ]
    }
   ],
   "source": [
    "input_text1 = tokenizer.decode(inputs[0].detach().numpy().tolist())\n",
    "output_text1 = tokenizer.decode(targets[0].detach().numpy().tolist())\n",
    "print(input_text1)\n",
    "print(output_text1)\n",
    "input_text2 = tokenizer.decode(inputs[1].detach().numpy().tolist())\n",
    "output_text2 = tokenizer.decode(targets[1].detach().numpy().tolist())\n",
    "print(input_text2)\n",
    "print(output_text2)"
   ]
  },
  {
   "cell_type": "markdown",
   "metadata": {},
   "source": [
    "### Model Architecture"
   ]
  },
  {
   "cell_type": "code",
   "execution_count": 18,
   "metadata": {},
   "outputs": [],
   "source": [
    "import torch\n",
    "import torch.nn as nn\n",
    "\n",
    "GPT_CONFIG_124M = {\n",
    "    \"vocab_size\": 50257,    # Vocabulary size\n",
    "    \"context_length\": 1024, # Context length\n",
    "    \"emb_dim\": 768,         # Embedding dimension\n",
    "    \"n_heads\": 12,          # Number of attention heads\n",
    "    \"n_layers\": 12,         # Number of layers\n",
    "    \"drop_rate\": 0.1,       # Dropout rate\n",
    "    \"qkv_bias\": False       # Query-Key-Value bias\n",
    "}"
   ]
  },
  {
   "cell_type": "markdown",
   "metadata": {},
   "source": [
    "#### Word Embedding & Positional Embedding\n",
    "\n",
    "Containing two parts, word embedding layer and positional embedding layer.\n",
    "\n",
    "Word Embedding Layer is a trainable lookup table works as Word2Vec.\n",
    "\n",
    "Positional Embedding is a trainable lookup table with input of positional index.\n",
    "\n",
    "Output Dimension: (batch_size, num_tokens, embedding_dimension)"
   ]
  },
  {
   "cell_type": "code",
   "execution_count": 20,
   "metadata": {},
   "outputs": [
    {
     "name": "stdout",
     "output_type": "stream",
     "text": [
      "torch.Size([2, 10, 768])\n"
     ]
    }
   ],
   "source": [
    "class TokenEmbedding(nn.Module):\n",
    "    def __init__(self,vocab_size,emb_dim):\n",
    "        super(TokenEmbedding, self).__init__()\n",
    "        self.word_embedding = nn.Embedding(vocab_size,emb_dim)\n",
    "        self.pos_embedding = nn.Embedding(vocab_size,emb_dim)\n",
    "    \n",
    "    def forward(self,x):\n",
    "        _,num_tokens = x.shape\n",
    "        word_embedding = self.word_embedding(x)\n",
    "        pos_embedding = self.pos_embedding(torch.arange(0,num_tokens,device=x.device))\n",
    "        return word_embedding + pos_embedding\n",
    "    \n",
    "embedding_layer = TokenEmbedding(GPT_CONFIG_124M[\"vocab_size\"],GPT_CONFIG_124M[\"emb_dim\"])\n",
    "embedding_outputs = embedding_layer(inputs)\n",
    "print(embedding_outputs.shape)"
   ]
  },
  {
   "cell_type": "markdown",
   "metadata": {},
   "source": [
    "#### Layer Normalization\n",
    "Normalize the layer input with mean = 0 and std = 1, add additional trainable scaling and shifting parameters.\n",
    "\n",
    "In LLM, LayerNorm works as the following:\n",
    "Normalize each token vector in the sequence.\n",
    "Does not change the dimension.\n",
    "\n",
    "Output Dimension: (batch_size, num_tokens, embedding_dimension)"
   ]
  },
  {
   "cell_type": "code",
   "execution_count": 23,
   "metadata": {},
   "outputs": [
    {
     "name": "stdout",
     "output_type": "stream",
     "text": [
      "torch.Size([2, 10, 768])\n"
     ]
    }
   ],
   "source": [
    "class LayerNorm(nn.Module):\n",
    "    def __init__(self,emb_dim):\n",
    "        super(LayerNorm,self).__init__()\n",
    "        self.eps = 1e-5\n",
    "        self.scale = nn.Parameter(torch.ones(emb_dim))\n",
    "        self.shift = nn.Parameter(torch.zeros(emb_dim))\n",
    "        \n",
    "    def forward(self,x):\n",
    "        mean = x.mean(dim=-1,keepdim=True)\n",
    "        var = x.var(dim=-1,keepdim=True)\n",
    "        norm_x = (x - mean) / torch.sqrt(var+self.eps)\n",
    "        return self.scale * norm_x + self.shift\n",
    "    \n",
    "layer_norm = LayerNorm(GPT_CONFIG_124M['emb_dim'])\n",
    "layer_norm_outputs = layer_norm(embedding_outputs)\n",
    "print(layer_norm_outputs.shape)\n",
    "        "
   ]
  },
  {
   "cell_type": "markdown",
   "metadata": {},
   "source": [
    "#### Dropout Layer\n",
    "\n",
    "Normally this is set to 0."
   ]
  },
  {
   "cell_type": "code",
   "execution_count": 25,
   "metadata": {},
   "outputs": [
    {
     "name": "stdout",
     "output_type": "stream",
     "text": [
      "torch.Size([2, 10, 768])\n"
     ]
    }
   ],
   "source": [
    "class MyDropout(nn.Module):\n",
    "    def __init__(self,dropout_rate):\n",
    "        super(MyDropout,self).__init__()\n",
    "        self.dropout = nn.Dropout(dropout_rate)\n",
    "    \n",
    "    def forward(self,x):\n",
    "        return self.dropout(x)\n",
    "dropout_layer = MyDropout(GPT_CONFIG_124M[\"drop_rate\"])\n",
    "dropout_outputs = dropout_layer(layer_norm_outputs)\n",
    "print(dropout_outputs.shape)"
   ]
  },
  {
   "cell_type": "markdown",
   "metadata": {},
   "source": [
    "#### Multihead Attention Layer\n",
    "\n",
    "Output Dimension: (batch_size,num_tokens,embedding_dimension)"
   ]
  },
  {
   "cell_type": "code",
   "execution_count": 29,
   "metadata": {},
   "outputs": [
    {
     "name": "stdout",
     "output_type": "stream",
     "text": [
      "torch.Size([2, 10, 768])\n"
     ]
    }
   ],
   "source": [
    "class MultiHeadAttention(nn.Module):\n",
    "    def __init__(self,d_in,d_out,context_length,dropout,num_heads,qkv_bias=False):\n",
    "        super(MultiHeadAttention,self).__init__()\n",
    "        assert (d_out % num_heads == 0), \"output dimension must be divisible by number of heads\"\n",
    "        self.d_in = d_in\n",
    "        self.d_out = d_out\n",
    "        self.num_head = num_heads\n",
    "        self.head_dim = d_out // num_heads\n",
    "        self.W_query = nn.Linear(d_in,d_out,bias=qkv_bias)\n",
    "        self.W_key = nn.Linear(d_in,d_out,bias=qkv_bias)\n",
    "        self.W_value = nn.Linear(d_in,d_out,bias=qkv_bias)\n",
    "        self.out_proj = nn.Linear(d_out,d_out)\n",
    "        self.dropout = nn.Dropout(dropout)\n",
    "        self.register_buffer(\"mask\",torch.triu(torch.ones(context_length,context_length),diagonal=1))\n",
    "        #registered mask is a very large mask matrix with HxW of maximum context length\n",
    "        \n",
    "    def forward(self,x):\n",
    "        b,num_tokens,d_in = x.shape\n",
    "        \n",
    "        queries = self.W_query(x)\n",
    "        keys = self.W_key(x)\n",
    "        values = self.W_value(x)\n",
    "        \n",
    "        queries = queries.view(b,num_tokens,self.num_head,self.head_dim)\n",
    "        keys = keys.view(b,num_tokens,self.num_head,self.head_dim)\n",
    "        values = values.view(b,num_tokens,self.num_head,self.head_dim)\n",
    "        \n",
    "        queries = queries.transpose(1,2)\n",
    "        keys = keys.transpose(1,2)\n",
    "        values = values.transpose(1,2)\n",
    "        \n",
    "        attn_scores = torch.matmul(queries,keys.transpose(2,3))\n",
    "        mask_bool = self.mask.bool()[:num_tokens,:num_tokens]\n",
    "        attn_scores.masked_fill_(mask_bool,-torch.inf)\n",
    "        attn_weights = torch.softmax(attn_scores/self.head_dim**0.5,dim=-1)\n",
    "        attn_weights = self.dropout(attn_weights)\n",
    "        context_vec = torch.matmul(attn_weights,values).transpose(1,2)\n",
    "        context_vec = context_vec.contiguous().view(b,num_tokens,self.d_out)\n",
    "        context_vec = self.out_proj(context_vec)\n",
    "        return context_vec\n",
    "    \n",
    "multi_head_attention_layer = MultiHeadAttention(GPT_CONFIG_124M[\"emb_dim\"],GPT_CONFIG_124M[\"emb_dim\"],GPT_CONFIG_124M[\"context_length\"],GPT_CONFIG_124M[\"drop_rate\"],GPT_CONFIG_124M[\"n_heads\"])\n",
    "mha_outputs = multi_head_attention_layer(dropout_outputs)\n",
    "print(mha_outputs.shape)"
   ]
  },
  {
   "cell_type": "markdown",
   "metadata": {},
   "source": [
    "#### Feed Forward Layer"
   ]
  },
  {
   "cell_type": "code",
   "execution_count": 38,
   "metadata": {},
   "outputs": [
    {
     "name": "stdout",
     "output_type": "stream",
     "text": [
      "torch.Size([2, 10, 768])\n"
     ]
    }
   ],
   "source": [
    "class FeedForward(nn.Module):\n",
    "    def __init__(self,d_in,d_out):\n",
    "        super(FeedForward,self).__init__()\n",
    "        self.layers = nn.Sequential(\n",
    "            nn.Linear(d_in,d_in*4),\n",
    "            nn.GELU(),\n",
    "            nn.Linear(4*d_in,d_out)\n",
    "        )\n",
    "    \n",
    "    def forward(self,x):\n",
    "        return self.layers(x)\n",
    "ff_layer = FeedForward(GPT_CONFIG_124M[\"emb_dim\"],GPT_CONFIG_124M[\"emb_dim\"])\n",
    "ff_layer_outputs = ff_layer(mha_outputs)\n",
    "print(ff_layer_outputs.shape)"
   ]
  },
  {
   "cell_type": "markdown",
   "metadata": {},
   "source": [
    "### Output Head Layer\n",
    "\n",
    "Project output dimension to Vocab"
   ]
  },
  {
   "cell_type": "code",
   "execution_count": 41,
   "metadata": {},
   "outputs": [
    {
     "name": "stdout",
     "output_type": "stream",
     "text": [
      "torch.Size([2, 10, 50257])\n"
     ]
    }
   ],
   "source": [
    "output_head = nn.Linear(GPT_CONFIG_124M['emb_dim'],GPT_CONFIG_124M['vocab_size'])\n",
    "output_logits = output_head(ff_layer_outputs)\n",
    "print(output_logits.shape)"
   ]
  },
  {
   "cell_type": "markdown",
   "metadata": {},
   "source": [
    "#### Generating Text"
   ]
  },
  {
   "cell_type": "code",
   "execution_count": 63,
   "metadata": {},
   "outputs": [],
   "source": [
    "logits = output_logits[:,-1,:]\n",
    "idx_next = torch.argmax(logits,dim=-1,keepdim=True)\n",
    "result = torch.cat([inputs,idx_next],dim=1)"
   ]
  },
  {
   "cell_type": "code",
   "execution_count": 66,
   "metadata": {},
   "outputs": [
    {
     "name": "stdout",
     "output_type": "stream",
     "text": [
      "I HAD always thought Jack Gisburn rather Shoes\n",
      "AD always thought Jack Gisburn rather a cheapabul\n"
     ]
    }
   ],
   "source": [
    "result_text1 = tokenizer.decode(result[0].detach().numpy().tolist())\n",
    "result_text2 = tokenizer.decode(result[1].detach().numpy().tolist())\n",
    "print(result_text1)\n",
    "print(result_text2)"
   ]
  },
  {
   "cell_type": "markdown",
   "metadata": {},
   "source": [
    "### Put things together"
   ]
  },
  {
   "cell_type": "code",
   "execution_count": 73,
   "metadata": {},
   "outputs": [],
   "source": [
    "class TransformerBlock(nn.Module):\n",
    "    def __init__(self, cfg):\n",
    "        super().__init__()\n",
    "        self.att = MultiHeadAttention(\n",
    "            d_in=cfg[\"emb_dim\"],\n",
    "            d_out=cfg[\"emb_dim\"],\n",
    "            context_length=cfg[\"context_length\"],\n",
    "            num_heads=cfg[\"n_heads\"], \n",
    "            dropout=cfg[\"drop_rate\"],\n",
    "            qkv_bias=cfg[\"qkv_bias\"])\n",
    "        self.ff = FeedForward(cfg['emb_dim'],cfg['emb_dim'])\n",
    "        self.norm1 = LayerNorm(cfg[\"emb_dim\"])\n",
    "        self.norm2 = LayerNorm(cfg[\"emb_dim\"])\n",
    "        self.drop_shortcut = nn.Dropout(cfg[\"drop_rate\"])\n",
    "\n",
    "    def forward(self, x):\n",
    "        # Shortcut connection for attention block\n",
    "        shortcut = x\n",
    "        x = self.norm1(x)\n",
    "        x = self.att(x)  # Shape [batch_size, num_tokens, emb_size]\n",
    "        x = self.drop_shortcut(x)\n",
    "        x = x + shortcut  # Add the original input back\n",
    "\n",
    "        # Shortcut connection for feed forward block\n",
    "        shortcut = x\n",
    "        x = self.norm2(x)\n",
    "        x = self.ff(x)\n",
    "        x = self.drop_shortcut(x)\n",
    "        x = x + shortcut  # Add the original input back\n",
    "\n",
    "        return x\n",
    "    \n",
    "class GPTModel(nn.Module):\n",
    "    def __init__(self, cfg):\n",
    "        super().__init__()\n",
    "        self.tok_emb = nn.Embedding(cfg[\"vocab_size\"], cfg[\"emb_dim\"])\n",
    "        self.pos_emb = nn.Embedding(cfg[\"context_length\"], cfg[\"emb_dim\"])\n",
    "        self.drop_emb = nn.Dropout(cfg[\"drop_rate\"])\n",
    "        \n",
    "        self.trf_blocks = nn.Sequential(\n",
    "            *[TransformerBlock(cfg) for _ in range(cfg[\"n_layers\"])])\n",
    "        \n",
    "        self.final_norm = LayerNorm(cfg[\"emb_dim\"])\n",
    "        self.out_head = nn.Linear(\n",
    "            cfg[\"emb_dim\"], cfg[\"vocab_size\"], bias=False\n",
    "        )\n",
    "\n",
    "    def forward(self, in_idx):\n",
    "        batch_size, seq_len = in_idx.shape\n",
    "        tok_embeds = self.tok_emb(in_idx)\n",
    "        pos_embeds = self.pos_emb(torch.arange(seq_len, device=in_idx.device))\n",
    "        x = tok_embeds + pos_embeds  # Shape [batch_size, num_tokens, emb_size]\n",
    "        x = self.drop_emb(x)\n",
    "        x = self.trf_blocks(x)\n",
    "        x = self.final_norm(x)\n",
    "        logits = self.out_head(x)\n",
    "        return logits\n"
   ]
  },
  {
   "cell_type": "code",
   "execution_count": 72,
   "metadata": {},
   "outputs": [
    {
     "name": "stdout",
     "output_type": "stream",
     "text": [
      "Input batch:\n",
      " tensor([[   40,   367,  2885,  1464,  1807,  3619,   402,   271, 10899,  2138],\n",
      "        [ 2885,  1464,  1807,  3619,   402,   271, 10899,  2138,   257,  7026]])\n",
      "\n",
      "Output shape: torch.Size([2, 10, 50257])\n",
      "tensor([[[ 0.7372, -0.2461,  0.7377,  ..., -0.5505,  1.0940, -0.1215],\n",
      "         [ 0.1349, -0.4291,  0.2044,  ..., -0.9043, -0.6264,  0.3131],\n",
      "         [ 0.1940,  0.3353,  0.7451,  ...,  0.3835, -1.0765,  0.0152],\n",
      "         ...,\n",
      "         [-0.2486, -0.6441, -0.0191,  ..., -0.8061, -0.4295, -0.5307],\n",
      "         [ 0.1751, -0.2373,  1.1876,  ..., -0.7559, -0.1669, -0.0469],\n",
      "         [-0.3735,  0.1831,  0.7372,  ...,  0.0771, -0.2125,  0.0353]],\n",
      "\n",
      "        [[-0.6498,  0.2321,  0.7633,  ...,  0.7106, -0.4916, -0.9599],\n",
      "         [ 0.6222,  0.3213, -0.1542,  ...,  0.5888,  0.7959, -1.2487],\n",
      "         [ 1.1046, -0.0211,  0.7930,  ...,  0.1300, -0.3611, -0.4926],\n",
      "         ...,\n",
      "         [ 0.2321, -0.2643,  0.4346,  ..., -0.6386, -0.2357, -0.5369],\n",
      "         [ 1.2384,  0.3239,  0.7638,  ..., -0.1592,  0.0700,  0.4393],\n",
      "         [ 0.1301,  0.7425,  0.2869,  ...,  0.5912,  0.0224, -0.9951]]],\n",
      "       grad_fn=<UnsafeViewBackward0>)\n"
     ]
    }
   ],
   "source": [
    "torch.manual_seed(123)\n",
    "model = GPTModel(GPT_CONFIG_124M)\n",
    "\n",
    "out = model(inputs)\n",
    "print(\"Input batch:\\n\", inputs)\n",
    "print(\"\\nOutput shape:\", out.shape)\n",
    "print(out)"
   ]
  },
  {
   "cell_type": "code",
   "execution_count": 76,
   "metadata": {},
   "outputs": [
    {
     "name": "stdout",
     "output_type": "stream",
     "text": [
      "Output: tensor([[   40,   367,  2885,  1464,  1807,  3619,   402,   271, 10899,  2138,\n",
      "         19530, 43231, 30967, 42175, 48044, 44052],\n",
      "        [ 2885,  1464,  1807,  3619,   402,   271, 10899,  2138,   257,  7026,\n",
      "         26243, 24810, 48803, 49703, 40506, 30168]])\n",
      "Output length: 16\n",
      "I HAD always thought Jack Gisburn rather Forward Normandy freezerigrate McAuliffe expr\n"
     ]
    }
   ],
   "source": [
    "def generate_text_simple(model, idx, max_new_tokens, context_size):\n",
    "    # idx is (batch, n_tokens) array of indices in the current context\n",
    "    for _ in range(max_new_tokens):\n",
    "        \n",
    "        # Crop current context if it exceeds the supported context size\n",
    "        # E.g., if LLM supports only 5 tokens, and the context size is 10\n",
    "        # then only the last 5 tokens are used as context\n",
    "        idx_cond = idx[:, -context_size:]\n",
    "        \n",
    "        # Get the predictions\n",
    "        with torch.no_grad():\n",
    "            logits = model(idx_cond)\n",
    "        \n",
    "        # Focus only on the last time step\n",
    "        # (batch, n_tokens, vocab_size) becomes (batch, vocab_size)\n",
    "        logits = logits[:, -1, :]  \n",
    "\n",
    "        # Apply softmax to get probabilities\n",
    "        probas = torch.softmax(logits, dim=-1)  # (batch, vocab_size)\n",
    "\n",
    "        # Get the idx of the vocab entry with the highest probability value\n",
    "        idx_next = torch.argmax(probas, dim=-1, keepdim=True)  # (batch, 1)\n",
    "\n",
    "        # Append sampled index to the running sequence\n",
    "        idx = torch.cat((idx, idx_next), dim=1)  # (batch, n_tokens+1)\n",
    "\n",
    "    return idx\n",
    "\n",
    "model.eval() # disable dropout\n",
    "\n",
    "out = generate_text_simple(\n",
    "    model=model,\n",
    "    idx=inputs, \n",
    "    max_new_tokens=6, \n",
    "    context_size=GPT_CONFIG_124M[\"context_length\"]\n",
    ")\n",
    "\n",
    "print(\"Output:\", out)\n",
    "print(\"Output length:\", len(out[0]))\n",
    "decoded_text = tokenizer.decode(out[0].squeeze(0).tolist())\n",
    "print(decoded_text)"
   ]
  },
  {
   "cell_type": "markdown",
   "metadata": {},
   "source": [
    "### Check model outputs before training"
   ]
  },
  {
   "cell_type": "code",
   "execution_count": 104,
   "metadata": {},
   "outputs": [
    {
     "name": "stdout",
     "output_type": "stream",
     "text": [
      "Target:  I HAD always thought Jack Gisburn rather\n",
      "Outputs:   cosickson temples wast discriminatedFairredo conjectureometer Forward\n"
     ]
    }
   ],
   "source": [
    "with torch.no_grad():\n",
    "    logits = model(inputs)\n",
    "#print(\"model outputs: \",logits)\n",
    "probas = torch.softmax(logits, dim=-1) # Probability of each token in vocabulary\n",
    "#print(probas.shape) # Shape: (batch_size, num_tokens, vocab_size)\n",
    "token_ids = torch.argmax(probas,dim=-1,keepdim=True)\n",
    "#print(\"Token IDs:\\n\", token_ids)\n",
    "print(\"Target: \",tokenizer.decode(inputs[0].flatten().squeeze(dim=0).tolist()))\n",
    "print(\"Outputs: \",tokenizer.decode(token_ids[0].flatten().squeeze(dim=0).tolist()))"
   ]
  },
  {
   "cell_type": "markdown",
   "metadata": {},
   "source": [
    "### Loss Backward:\n",
    "\n",
    "pytorch nn.functional.cross_entropy take cares of everything"
   ]
  },
  {
   "cell_type": "code",
   "execution_count": 93,
   "metadata": {},
   "outputs": [
    {
     "name": "stdout",
     "output_type": "stream",
     "text": [
      "torch.Size([2, 10, 50257])\n",
      "torch.Size([2, 10])\n"
     ]
    }
   ],
   "source": [
    "print(logits.shape)\n",
    "print(targets.shape)"
   ]
  },
  {
   "cell_type": "markdown",
   "metadata": {},
   "source": [
    "#### Flatten batch with sequence, aka puts batches together and calculate batch loss, loss of individual batch is batch loss/num_batch"
   ]
  },
  {
   "cell_type": "code",
   "execution_count": 102,
   "metadata": {},
   "outputs": [
    {
     "name": "stdout",
     "output_type": "stream",
     "text": [
      "torch.Size([20, 50257])\n",
      "torch.Size([20])\n"
     ]
    }
   ],
   "source": [
    "flatten_batch_logits = logits.flatten(0,1)\n",
    "flatten_batch_targets = targets.flatten(0,1)\n",
    "print(flatten_batch_logits.shape)\n",
    "print(flatten_batch_targets.shape)"
   ]
  },
  {
   "cell_type": "markdown",
   "metadata": {},
   "source": [
    "#### nn.function.cross_entory\n",
    "\n",
    "nn.functional.cross_entropy(input=logits,target=integers)\n",
    "- logits has dimension of vocab\n",
    "- target has index on the dimension"
   ]
  },
  {
   "cell_type": "code",
   "execution_count": 103,
   "metadata": {},
   "outputs": [
    {
     "data": {
      "text/plain": [
       "tensor(11.0605)"
      ]
     },
     "execution_count": 103,
     "metadata": {},
     "output_type": "execute_result"
    }
   ],
   "source": [
    "loss = nn.functional.cross_entropy(flatten_batch_logits,flatten_batch_targets)\n",
    "loss"
   ]
  },
  {
   "cell_type": "code",
   "execution_count": 105,
   "metadata": {},
   "outputs": [],
   "source": [
    "def text_to_token_ids(text, tokenizer):\n",
    "    encoded = tokenizer.encode(text, allowed_special={'<|endoftext|>'})\n",
    "    encoded_tensor = torch.tensor(encoded).unsqueeze(0) # add batch dimension\n",
    "    return encoded_tensor\n",
    "\n",
    "def token_ids_to_text(token_ids, tokenizer):\n",
    "    flat = token_ids.squeeze(0) # remove batch dimension\n",
    "    return tokenizer.decode(flat.tolist())"
   ]
  },
  {
   "cell_type": "code",
   "execution_count": 108,
   "metadata": {},
   "outputs": [],
   "source": [
    "def cal_batch_loss(input_batch,target_batch,model,device):\n",
    "    input_batch,target_batch = input_batch.to(device),target_batch.to(device)\n",
    "    logits = model(input_batch)\n",
    "    loss = nn.functional.cross_entropy(logits.flatten(0,1),target_batch.flatten())\n",
    "    return loss\n",
    "\n",
    "def calc_loss_loader(data_loader, model, device, num_batches=None):\n",
    "    total_loss = 0.\n",
    "    if len(data_loader) == 0:\n",
    "        return float(\"nan\")\n",
    "    elif num_batches is None:\n",
    "        num_batches = len(data_loader)\n",
    "    else:\n",
    "        # Reduce the number of batches to match the total number of batches in the data loader\n",
    "        # if num_batches exceeds the number of batches in the data loader\n",
    "        num_batches = min(num_batches, len(data_loader))\n",
    "    for i, (input_batch, target_batch) in enumerate(data_loader):\n",
    "        if i < num_batches:\n",
    "            loss = cal_batch_loss(input_batch, target_batch, model, device)\n",
    "            total_loss += loss.item()\n",
    "        else:\n",
    "            break\n",
    "    return total_loss / num_batches\n",
    "\n",
    "def evaluate_model(model, train_loader, val_loader, device, eval_iter):\n",
    "    model.eval()\n",
    "    with torch.no_grad():\n",
    "        train_loss = calc_loss_loader(train_loader, model, device, num_batches=eval_iter)\n",
    "        val_loss = calc_loss_loader(val_loader, model, device, num_batches=eval_iter)\n",
    "    model.train()\n",
    "    return train_loss, val_loss\n",
    "\n",
    "def generate_and_print_sample(model, tokenizer, device, start_context):\n",
    "    model.eval()\n",
    "    context_size = model.pos_emb.weight.shape[0]\n",
    "    encoded = text_to_token_ids(start_context, tokenizer).to(device)\n",
    "    with torch.no_grad():\n",
    "        token_ids = generate_text_simple(\n",
    "            model=model, idx=encoded,\n",
    "            max_new_tokens=50, context_size=context_size\n",
    "        )\n",
    "        decoded_text = token_ids_to_text(token_ids, tokenizer)\n",
    "        print(decoded_text.replace(\"\\n\", \" \"))  # Compact print format\n",
    "    model.train()\n",
    "\n",
    "def train(model,train_loader,val_loader,optimizer,device,num_epochs,eval_freq,eval_iter,start_context,tokenizer):\n",
    "    train_losses, val_losses, track_tokens_seen = [],[],[]\n",
    "    tokens_seen = 0\n",
    "    global_step = -1\n",
    "    for epoch in range(num_epochs):\n",
    "        model.train()\n",
    "        for input_batch,target_batch in train_loader:\n",
    "            optimizer.zero_grad()\n",
    "            loss = cal_batch_loss(input_batch,target_batch,model,device)\n",
    "            loss.backward()\n",
    "            optimizer.step()\n",
    "            tokens_seen += input_batch.numel()\n",
    "            global_step += 1      \n",
    "            if global_step % eval_freq == 0:\n",
    "                train_loss, val_loss = evaluate_model(model,train_loader,val_loader,device,eval_iter)\n",
    "                train_losses.append(train_loss)\n",
    "                val_losses.append(val_loss)\n",
    "                track_tokens_seen.append(tokens_seen)\n",
    "                print(f\"Ep {epoch+1} (Step {global_step:06d}): \"\n",
    "                      f\"Train loss {train_loss:.3f}, Val loss {val_loss:.3f}\")\n",
    "        generate_and_print_sample(\n",
    "            model, tokenizer, device, start_context\n",
    "        )\n",
    "    return train_losses,val_losses,track_tokens_seen"
   ]
  },
  {
   "cell_type": "code",
   "execution_count": 109,
   "metadata": {},
   "outputs": [
    {
     "ename": "UnboundLocalError",
     "evalue": "cannot access local variable 'token_seen' where it is not associated with a value",
     "output_type": "error",
     "traceback": [
      "\u001b[1;31m---------------------------------------------------------------------------\u001b[0m",
      "\u001b[1;31mUnboundLocalError\u001b[0m                         Traceback (most recent call last)",
      "Cell \u001b[1;32mIn[109], line 8\u001b[0m\n\u001b[0;32m      5\u001b[0m optimizer \u001b[38;5;241m=\u001b[39m torch\u001b[38;5;241m.\u001b[39moptim\u001b[38;5;241m.\u001b[39mAdamW(model\u001b[38;5;241m.\u001b[39mparameters(), lr\u001b[38;5;241m=\u001b[39m\u001b[38;5;241m0.0004\u001b[39m, weight_decay\u001b[38;5;241m=\u001b[39m\u001b[38;5;241m0.1\u001b[39m)\n\u001b[0;32m      7\u001b[0m num_epochs \u001b[38;5;241m=\u001b[39m \u001b[38;5;241m10\u001b[39m\n\u001b[1;32m----> 8\u001b[0m train_losses, val_losses, tokens_seen \u001b[38;5;241m=\u001b[39m \u001b[43mtrain\u001b[49m\u001b[43m(\u001b[49m\n\u001b[0;32m      9\u001b[0m \u001b[43m    \u001b[49m\u001b[43mmodel\u001b[49m\u001b[43m,\u001b[49m\u001b[43m \u001b[49m\u001b[43mdataloader\u001b[49m\u001b[43m,\u001b[49m\u001b[43m \u001b[49m\u001b[43mdataloader\u001b[49m\u001b[43m,\u001b[49m\u001b[43m \u001b[49m\u001b[43moptimizer\u001b[49m\u001b[43m,\u001b[49m\u001b[43m \u001b[49m\u001b[43mdevice\u001b[49m\u001b[43m,\u001b[49m\n\u001b[0;32m     10\u001b[0m \u001b[43m    \u001b[49m\u001b[43mnum_epochs\u001b[49m\u001b[38;5;241;43m=\u001b[39;49m\u001b[43mnum_epochs\u001b[49m\u001b[43m,\u001b[49m\u001b[43m \u001b[49m\u001b[43meval_freq\u001b[49m\u001b[38;5;241;43m=\u001b[39;49m\u001b[38;5;241;43m5\u001b[39;49m\u001b[43m,\u001b[49m\u001b[43m \u001b[49m\u001b[43meval_iter\u001b[49m\u001b[38;5;241;43m=\u001b[39;49m\u001b[38;5;241;43m5\u001b[39;49m\u001b[43m,\u001b[49m\n\u001b[0;32m     11\u001b[0m \u001b[43m    \u001b[49m\u001b[43mstart_context\u001b[49m\u001b[38;5;241;43m=\u001b[39;49m\u001b[38;5;124;43m\"\u001b[39;49m\u001b[38;5;124;43mEvery effort moves you\u001b[39;49m\u001b[38;5;124;43m\"\u001b[39;49m\u001b[43m,\u001b[49m\u001b[43m \u001b[49m\u001b[43mtokenizer\u001b[49m\u001b[38;5;241;43m=\u001b[39;49m\u001b[43mtokenizer\u001b[49m\n\u001b[0;32m     12\u001b[0m \u001b[43m)\u001b[49m\n",
      "Cell \u001b[1;32mIn[108], line 57\u001b[0m, in \u001b[0;36mtrain\u001b[1;34m(model, train_loader, val_loader, optimizer, device, num_epochs, eval_freq, eval_iter, start_context, tokenizer)\u001b[0m\n\u001b[0;32m     55\u001b[0m loss\u001b[38;5;241m.\u001b[39mbackward()\n\u001b[0;32m     56\u001b[0m optimizer\u001b[38;5;241m.\u001b[39mstep()\n\u001b[1;32m---> 57\u001b[0m \u001b[43mtoken_seen\u001b[49m \u001b[38;5;241m+\u001b[39m\u001b[38;5;241m=\u001b[39m input_batch\u001b[38;5;241m.\u001b[39mnumel()\n\u001b[0;32m     58\u001b[0m global_step \u001b[38;5;241m+\u001b[39m\u001b[38;5;241m=\u001b[39m \u001b[38;5;241m1\u001b[39m      \n\u001b[0;32m     59\u001b[0m \u001b[38;5;28;01mif\u001b[39;00m global_step \u001b[38;5;241m%\u001b[39m eval_freq \u001b[38;5;241m==\u001b[39m \u001b[38;5;241m0\u001b[39m:\n",
      "\u001b[1;31mUnboundLocalError\u001b[0m: cannot access local variable 'token_seen' where it is not associated with a value"
     ]
    }
   ],
   "source": [
    "device = \"cuda\" if torch.cuda.is_available() else \"cpu\"\n",
    "torch.manual_seed(123)\n",
    "model = GPTModel(GPT_CONFIG_124M)\n",
    "model.to(device)\n",
    "optimizer = torch.optim.AdamW(model.parameters(), lr=0.0004, weight_decay=0.1)\n",
    "\n",
    "num_epochs = 10\n",
    "train_losses, val_losses, tokens_seen = train(\n",
    "    model, dataloader, dataloader, optimizer, device,\n",
    "    num_epochs=num_epochs, eval_freq=5, eval_iter=5,\n",
    "    start_context=\"Every effort moves you\", tokenizer=tokenizer\n",
    ")"
   ]
  },
  {
   "cell_type": "code",
   "execution_count": null,
   "metadata": {},
   "outputs": [],
   "source": []
  }
 ],
 "metadata": {
  "kernelspec": {
   "display_name": "mdchat",
   "language": "python",
   "name": "python3"
  },
  "language_info": {
   "codemirror_mode": {
    "name": "ipython",
    "version": 3
   },
   "file_extension": ".py",
   "mimetype": "text/x-python",
   "name": "python",
   "nbconvert_exporter": "python",
   "pygments_lexer": "ipython3",
   "version": "3.12.2"
  }
 },
 "nbformat": 4,
 "nbformat_minor": 2
}
